{
 "cells": [
  {
   "cell_type": "code",
   "execution_count": 30,
   "id": "501b401b-6f80-49b9-b496-0851d73c3b3e",
   "metadata": {},
   "outputs": [
    {
     "name": "stdout",
     "output_type": "stream",
     "text": [
      "['Details', 'are', 'important', 'but', 'don’t', 'be', 'obsessed', 'with', 'examples,', 'illustrations,', 'and', 'so', 'on.', 'You', 'just', 'need', 'to', 'get', 'a', 'hang', 'of', 'the', 'main', 'point', 'and', 'not', 'the', 'examples.', 'Comprehending', 'the', 'overall', 'flow', 'and', 'structure', 'will', 'help', 'you', 'analyze', 'and', 'answer', 'the', 'questions', 'flow', 'and', 'flow', 'and', 'analyze', 'and', 'analyze', 'and', 'comprehending', 'with', 'examples']\n"
     ]
    }
   ],
   "source": [
    "import nltk\n",
    "from nltk.tokenize import word_tokenize\n",
    "txt=\"Details are important but don’t be obsessed with examples, illustrations, and so on. You just need to get a hang of the main point and not the examples. Comprehending the overall flow and structure will help you analyze and answer the questions flow and flow and analyze and analyze and comprehending with examples\"\n",
    "words = word_tokenize(txt)\n",
    "print(words)"
   ]
  },
  {
   "cell_type": "code",
   "execution_count": 33,
   "id": "430f6338-3f42-45fc-8740-83804def3d58",
   "metadata": {},
   "outputs": [
    {
     "name": "stdout",
     "output_type": "stream",
     "text": [
      "{'Details': 1, 'are': 1, 'important': 1, 'but': 1, 'don’t': 1, 'be': 1, 'obsessed': 1, 'with': 2, 'examples,': 1, 'illustrations,': 1, 'and': 8, 'so': 1, 'on.': 1, 'You': 1, 'just': 1, 'need': 1, 'to': 1, 'get': 1, 'a': 1, 'hang': 1, 'of': 1, 'the': 4, 'main': 1, 'point': 1, 'not': 1, 'examples.': 1, 'Comprehending': 1, 'overall': 1, 'flow': 3, 'structure': 1, 'will': 1, 'help': 1, 'you': 1, 'analyze': 3, 'answer': 1, 'questions': 1, 'comprehending': 1, 'examples': 1}\n"
     ]
    }
   ],
   "source": [
    "dict = {}\n",
    "for word in words:\n",
    "    dict[word]=dict.setdefault(word,0)+1\n",
    "print(dict)"
   ]
  },
  {
   "cell_type": "code",
   "execution_count": null,
   "id": "4d7d2357-6d27-4685-bd03-37e14da9ad9e",
   "metadata": {},
   "outputs": [],
   "source": []
  },
  {
   "cell_type": "code",
   "execution_count": 34,
   "id": "6c2b8d4b-52c4-4c8d-a3b4-2526c90ccd57",
   "metadata": {},
   "outputs": [
    {
     "name": "stdout",
     "output_type": "stream",
     "text": [
      "Details  :  0.02631578947368421\n",
      "are  :  0.02631578947368421\n",
      "important  :  0.02631578947368421\n",
      "but  :  0.02631578947368421\n",
      "don’t  :  0.02631578947368421\n",
      "be  :  0.02631578947368421\n",
      "obsessed  :  0.02631578947368421\n",
      "with  :  0.05263157894736842\n",
      "examples,  :  0.02631578947368421\n",
      "illustrations,  :  0.02631578947368421\n",
      "and  :  0.21052631578947367\n",
      "so  :  0.02631578947368421\n",
      "on.  :  0.02631578947368421\n",
      "You  :  0.02631578947368421\n",
      "just  :  0.02631578947368421\n",
      "need  :  0.02631578947368421\n",
      "to  :  0.02631578947368421\n",
      "get  :  0.02631578947368421\n",
      "a  :  0.02631578947368421\n",
      "hang  :  0.02631578947368421\n",
      "of  :  0.02631578947368421\n",
      "the  :  0.10526315789473684\n",
      "main  :  0.02631578947368421\n",
      "point  :  0.02631578947368421\n",
      "not  :  0.02631578947368421\n",
      "examples.  :  0.02631578947368421\n",
      "Comprehending  :  0.02631578947368421\n",
      "overall  :  0.02631578947368421\n",
      "flow  :  0.07894736842105263\n",
      "structure  :  0.02631578947368421\n",
      "will  :  0.02631578947368421\n",
      "help  :  0.02631578947368421\n",
      "you  :  0.02631578947368421\n",
      "analyze  :  0.07894736842105263\n",
      "answer  :  0.02631578947368421\n",
      "questions  :  0.02631578947368421\n",
      "comprehending  :  0.02631578947368421\n",
      "examples  :  0.02631578947368421\n"
     ]
    }
   ],
   "source": [
    "t=len(dict)\n",
    "for word,prob in dict.items():\n",
    "    print(word,' : ',prob/t)\n",
    "    "
   ]
  },
  {
   "cell_type": "code",
   "execution_count": 35,
   "id": "1fcfc1ff-e00a-4f37-bf40-6a11288eaa1c",
   "metadata": {},
   "outputs": [
    {
     "name": "stdout",
     "output_type": "stream",
     "text": [
      "Details  :  1\n",
      "are  :  1\n",
      "important  :  1\n",
      "but  :  1\n",
      "don’t  :  1\n",
      "be  :  1\n",
      "obsessed  :  1\n",
      "examples,  :  1\n",
      "illustrations,  :  1\n",
      "so  :  1\n",
      "on.  :  1\n",
      "You  :  1\n",
      "just  :  1\n",
      "need  :  1\n",
      "to  :  1\n",
      "get  :  1\n",
      "a  :  1\n",
      "hang  :  1\n",
      "of  :  1\n",
      "main  :  1\n",
      "point  :  1\n",
      "not  :  1\n",
      "examples.  :  1\n",
      "Comprehending  :  1\n",
      "overall  :  1\n",
      "structure  :  1\n",
      "will  :  1\n",
      "help  :  1\n",
      "you  :  1\n",
      "answer  :  1\n",
      "questions  :  1\n",
      "comprehending  :  1\n",
      "examples  :  1\n"
     ]
    }
   ],
   "source": [
    "for w,f in dict.items():\n",
    "    if(f==1):\n",
    "        print(w, ' : ', 1)"
   ]
  },
  {
   "cell_type": "code",
   "execution_count": 36,
   "id": "1e90382a-0f29-4ed4-988b-d2b158d5c521",
   "metadata": {},
   "outputs": [
    {
     "name": "stdout",
     "output_type": "stream",
     "text": [
      "53\n"
     ]
    }
   ],
   "source": [
    "print(len(words))"
   ]
  },
  {
   "cell_type": "code",
   "execution_count": 37,
   "id": "f70b3b62-173a-4bf8-9c4e-b8e8e150250f",
   "metadata": {},
   "outputs": [
    {
     "name": "stdout",
     "output_type": "stream",
     "text": [
      "['Detailsare', 'areimportant', 'importantbut', 'butdon’t', 'don’tbe', 'beobsessed', 'obsessedwith', 'withexamples,', 'examples,illustrations,', 'illustrations,and', 'andso', 'soon.', 'on.You', 'Youjust', 'justneed', 'needto', 'toget', 'geta', 'ahang', 'hangof', 'ofthe', 'themain', 'mainpoint', 'pointand', 'andnot', 'notthe', 'theexamples.', 'examples.Comprehending', 'Comprehendingthe', 'theoverall', 'overallflow', 'flowand', 'andstructure', 'structurewill', 'willhelp', 'helpyou', 'youanalyze', 'analyzeand', 'andanswer', 'answerthe', 'thequestions', 'questionsflow', 'flowand', 'andflow', 'flowand', 'andanalyze', 'analyzeand', 'andanalyze', 'analyzeand', 'andcomprehending', 'comprehendingwith', 'withexamples', 'examples']\n"
     ]
    }
   ],
   "source": [
    "for i in range(len(words)-1):\n",
    "    words[i]+=words[i+1]\n",
    "print(words)"
   ]
  },
  {
   "cell_type": "code",
   "execution_count": 38,
   "id": "e85089d4-6608-48a6-ad7f-c3e443396491",
   "metadata": {},
   "outputs": [
    {
     "name": "stdout",
     "output_type": "stream",
     "text": [
      "{'Detailsare': 1, 'areimportant': 1, 'importantbut': 1, 'butdon’t': 1, 'don’tbe': 1, 'beobsessed': 1, 'obsessedwith': 1, 'withexamples,': 1, 'examples,illustrations,': 1, 'illustrations,and': 1, 'andso': 1, 'soon.': 1, 'on.You': 1, 'Youjust': 1, 'justneed': 1, 'needto': 1, 'toget': 1, 'geta': 1, 'ahang': 1, 'hangof': 1, 'ofthe': 1, 'themain': 1, 'mainpoint': 1, 'pointand': 1, 'andnot': 1, 'notthe': 1, 'theexamples.': 1, 'examples.Comprehending': 1, 'Comprehendingthe': 1, 'theoverall': 1, 'overallflow': 1, 'flowand': 3, 'andstructure': 1, 'structurewill': 1, 'willhelp': 1, 'helpyou': 1, 'youanalyze': 1, 'analyzeand': 3, 'andanswer': 1, 'answerthe': 1, 'thequestions': 1, 'questionsflow': 1, 'andflow': 1, 'andanalyze': 2, 'andcomprehending': 1, 'comprehendingwith': 1, 'withexamples': 1, 'examples': 1}\n"
     ]
    }
   ],
   "source": [
    "pair={}\n",
    "for w in words:\n",
    "    if w not in pair:\n",
    "        pair[w]=1\n",
    "    else:\n",
    "        pair[w]+=1\n",
    "print(pair)"
   ]
  },
  {
   "cell_type": "code",
   "execution_count": 39,
   "id": "de8b5406-67b0-4084-bc8f-661d8fc34de7",
   "metadata": {},
   "outputs": [
    {
     "name": "stdout",
     "output_type": "stream",
     "text": [
      "flowand  :  3\n"
     ]
    }
   ],
   "source": [
    "max=0\n",
    "for w in pair:\n",
    "    count=pair[w]\n",
    "    if(count>max):\n",
    "        max=count\n",
    "        most=w\n",
    "print(most,' : ',max)"
   ]
  }
 ],
 "metadata": {
  "kernelspec": {
   "display_name": "Python 3",
   "language": "python",
   "name": "python3"
  },
  "language_info": {
   "codemirror_mode": {
    "name": "ipython",
    "version": 3
   },
   "file_extension": ".py",
   "mimetype": "text/x-python",
   "name": "python",
   "nbconvert_exporter": "python",
   "pygments_lexer": "ipython3",
   "version": "3.8.8"
  }
 },
 "nbformat": 4,
 "nbformat_minor": 5
}
