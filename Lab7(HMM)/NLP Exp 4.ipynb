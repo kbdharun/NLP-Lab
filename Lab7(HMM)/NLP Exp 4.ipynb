{
 "cells": [
  {
   "cell_type": "markdown",
   "id": "3be05c09",
   "metadata": {},
   "source": [
    "# Hidden Markov Model - Forward and backward algorithm\n",
    "\n",
    "\"Code credits: [**V Tarun Thothadri**](https://github.com/TarunThothadri)\""
   ]
  },
  {
   "cell_type": "code",
   "execution_count": 1,
   "id": "96e855aa",
   "metadata": {},
   "outputs": [
    {
     "name": "stdout",
     "output_type": "stream",
     "text": [
      "Enter no of states : 2\n",
      "Enter state 1 : cp\n",
      "Enter initial probability of the state 1 : 1.0\n",
      "Enter state 2 : ip\n",
      "Enter initial probability of the state 2 : 0.0\n",
      "Enter stp from cp to cp : 0.7\n",
      "Enter stp from cp to ip : 0.3\n",
      "Enter stp from ip to cp : 0.5\n",
      "Enter stp from ip to ip : 0.5\n",
      "Enter no of observations : 3\n",
      "Enter observation 1 : lem\n",
      "Enter observation 2 : ice\n",
      "Enter observation 3 : cola\n",
      "Enter probability of getting lem from cp : 0.3\n",
      "Enter probability of getting ice from cp : 0.1\n",
      "Enter probability of getting cola from cp : 0.6\n",
      "Enter probability of getting lem from ip : 0.2\n",
      "Enter probability of getting ice from ip : 0.7\n",
      "Enter probability of getting cola from ip : 0.1\n",
      "['cp', 'ip']\n",
      "[1.0, 0.0]\n",
      "[[0.7, 0.3], [0.5, 0.5]]\n",
      "['lem', 'ice', 'cola']\n",
      "[[0.3, 0.1, 0.6], [0.2, 0.7, 0.1]]\n"
     ]
    }
   ],
   "source": [
    "'''states = ['cp','ip']\n",
    "ls = len(states)\n",
    "\n",
    "#Initial Probability\n",
    "ip = [1.0,0.0]\n",
    "\n",
    "#State transition probability\n",
    "stp = [[0.7,0.3],\n",
    "       [0.5,0.5]]\n",
    "\n",
    "#Observations\n",
    "op = ['lem','ice','cola']\n",
    "lop = len(op)\n",
    "\n",
    "#Obs probablity\n",
    "opp = [[0.3,0.1,0.6],\n",
    "       [0.2,0.7,0.1]]'''\n",
    "\n",
    "states = []\n",
    "ip = []\n",
    "stp = []\n",
    "op = []\n",
    "opp = []\n",
    "\n",
    "ls = int(input(\"Enter no of states : \"))\n",
    "\n",
    "for i in range(ls):\n",
    "    states.append(input(f\"Enter state {i+1} : \"))\n",
    "    ip.append(float(input(f\"Enter initial probability of the state {i+1} : \")))\n",
    "\n",
    "for i in range(ls):\n",
    "    sp_row = []\n",
    "    for j in range(ls):\n",
    "        sp = float(input(f\"Enter stp from {states[i]} to {states[j]} : \"))\n",
    "        sp_row.append(sp)\n",
    "    stp.append(sp_row)\n",
    "    \n",
    "lop = int(input(\"Enter no of observations : \"))\n",
    "\n",
    "for i in range(lop):\n",
    "    op.append(input(f\"Enter observation {i+1} : \"))\n",
    "\n",
    "for i in range(ls):\n",
    "    opp_row = []\n",
    "    for j in range(lop):\n",
    "        opp_row.append(float(input(f\"Enter probability of getting {op[j]} from {states[i]} : \")))\n",
    "        \n",
    "    opp.append(opp_row)\n",
    "    \n",
    "print(states)\n",
    "print(ip)\n",
    "print(stp)\n",
    "print(op)\n",
    "print(opp)"
   ]
  },
  {
   "cell_type": "markdown",
   "id": "ac0d52fe",
   "metadata": {},
   "source": [
    "Forward Algorithm"
   ]
  },
  {
   "cell_type": "code",
   "execution_count": 2,
   "id": "aad5d765",
   "metadata": {},
   "outputs": [],
   "source": [
    "def forward_alg():\n",
    "    alpha = []\n",
    "    for _ in range(len(op)+1):\n",
    "        alpha.append([0,0])\n",
    "\n",
    "    '''alpha[0][0] = 1.0\n",
    "    alpha[0][1] = 0.0\n",
    "    #print(alpha)'''\n",
    "    \n",
    "    for i in range(len(alpha)):\n",
    "        if i == 0:\n",
    "            alpha[i][0] = ip[0]\n",
    "            alpha[i][1] = ip[1]\n",
    "            continue\n",
    "        \n",
    "        alpha[i][0] = float(float(stp[0][0]*opp[0][i-1]*alpha[i-1][0]) + float(stp[1][0]*opp[1][i-1]*alpha[i-1][1]))\n",
    "\n",
    "        alpha[i][1] = float(float(stp[1][1]*opp[1][i-1]*alpha[i-1][1]) + float(stp[0][1]*opp[0][i-1]*alpha[i-1][0]))\n",
    "\n",
    "    return alpha"
   ]
  },
  {
   "cell_type": "code",
   "execution_count": 3,
   "id": "7612f052",
   "metadata": {},
   "outputs": [
    {
     "name": "stdout",
     "output_type": "stream",
     "text": [
      "[1.0, 0.0]\n",
      "[0.21, 0.09]\n",
      "[0.0462, 0.0378]\n",
      "[0.021293999999999997, 0.010206]\n",
      "\n",
      "Probability of whole sequence :  0.0315\n"
     ]
    }
   ],
   "source": [
    "alpha = forward_alg()\n",
    "pos_alpha = 0.0\n",
    "for i in alpha:\n",
    "    pos_alpha = sum(i)\n",
    "    print(i)\n",
    "    \n",
    "print(\"\\nProbability of whole sequence : \",pos_alpha)"
   ]
  },
  {
   "cell_type": "markdown",
   "id": "70482230",
   "metadata": {},
   "source": [
    "Backward Algorithm"
   ]
  },
  {
   "cell_type": "code",
   "execution_count": 4,
   "id": "445612f0",
   "metadata": {},
   "outputs": [],
   "source": [
    "def backward_alg():\n",
    "    beta = []\n",
    "    for _ in range(len(op)+1):\n",
    "        beta.append([0.0,0.0])\n",
    "\n",
    "    beta[len(op)][0] = 1.0\n",
    "    beta[len(op)][1] = 1.0\n",
    "    #print(beta)\n",
    "\n",
    "    for i in range(len(op)-1,-1,-1):\n",
    "        \n",
    "        beta[i][0] = float(float(stp[0][0]*opp[0][i]*beta[i+1][0]) + float(stp[0][1]*opp[0][i]*beta[i+1][1]))\n",
    "\n",
    "        beta[i][1] = float(float(stp[1][1]*opp[1][i]*beta[i+1][1]) + float(stp[1][0]*opp[1][i]*beta[i+1][0]))\n",
    "\n",
    "    return beta"
   ]
  },
  {
   "cell_type": "code",
   "execution_count": 5,
   "id": "6986b179",
   "metadata": {},
   "outputs": [
    {
     "name": "stdout",
     "output_type": "stream",
     "text": [
      "[0.0315, 0.029]\n",
      "[0.045, 0.245]\n",
      "[0.6, 0.1]\n",
      "[1.0, 1.0]\n",
      "\n",
      "Probability of whole sequence :  0.0315\n"
     ]
    }
   ],
   "source": [
    "beta = backward_alg()\n",
    "for i in beta:\n",
    "    print(i)\n",
    "    \n",
    "print(\"\\nProbability of whole sequence : \",beta[0][0]*ip[0] + beta[0][1]*ip[1])"
   ]
  }
 ],
 "metadata": {
  "kernelspec": {
   "display_name": "Python 3 (ipykernel)",
   "language": "python",
   "name": "python3"
  },
  "language_info": {
   "codemirror_mode": {
    "name": "ipython",
    "version": 3
   },
   "file_extension": ".py",
   "mimetype": "text/x-python",
   "name": "python",
   "nbconvert_exporter": "python",
   "pygments_lexer": "ipython3",
   "version": "3.11.5"
  }
 },
 "nbformat": 4,
 "nbformat_minor": 5
}
