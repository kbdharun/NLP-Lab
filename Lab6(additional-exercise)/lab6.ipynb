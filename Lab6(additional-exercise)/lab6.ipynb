{
 "cells": [
  {
   "cell_type": "markdown",
   "id": "db74bf44",
   "metadata": {},
   "source": [
    "### Todo\n",
    "\n",
    "1. Get text from a file\n",
    "2. Get all possible bi grams\n",
    "3. Apply smoothing(add-one,add-delta) for each bigram\n",
    "4. Given random bi gram as an input\n",
    "5. Print the probability of the given bi gram via all the three ,methods\n",
    "\n",
    "- add-one ---->laplace\n",
    "- add-delta---->lidstone,jefrey's"
   ]
  },
  {
   "cell_type": "markdown",
   "id": "a0228d7f",
   "metadata": {},
   "source": [
    "Input text\n",
    "\n",
    "`This is a sample text for testing the bigram probability calculation using smoothing techniques. The quick brown fox jumps over the lazy dog. The lazy dog barks loudly. Testing is essential for evaluating the performance of natural language processing models.`"
   ]
  },
  {
   "cell_type": "code",
   "execution_count": 5,
   "id": "0ccf8972",
   "metadata": {},
   "outputs": [
    {
     "name": "stdout",
     "output_type": "stream",
     "text": [
      "Probability using Laplace (add-one) smoothing: 0.029411764705882353\n",
      "Probability using Lidstone (add-delta) with Jeffrey's smoothing: 0.029411764705882353\n"
     ]
    }
   ],
   "source": [
    "from collections import defaultdict\n",
    "import math\n",
    "\n",
    "# Step 1: Get text from a file\n",
    "def read_text_from_file(filename):\n",
    "    with open(filename, 'r', encoding='utf-8') as file:\n",
    "        text = file.read()\n",
    "    return text\n",
    "\n",
    "# Step 2: Get all possible bigrams\n",
    "def get_bigrams(text):\n",
    "    words = text.split()\n",
    "    bigrams = [(words[i], words[i + 1]) for i in range(len(words) - 1)]\n",
    "    return bigrams\n",
    "\n",
    "# Step 3: Apply Laplace (add-one) smoothing\n",
    "def laplace_smoothing(bigrams, vocabulary):\n",
    "    count_bigram = defaultdict(int)\n",
    "    count_unigram = defaultdict(int)\n",
    "\n",
    "    for bigram in bigrams:\n",
    "        count_bigram[bigram] += 1\n",
    "        count_unigram[bigram[0]] += 1\n",
    "\n",
    "    def laplace_probability(bigram):\n",
    "        return (count_bigram[bigram] + 1) / (count_unigram[bigram[0]] + vocabulary)\n",
    "\n",
    "    return laplace_probability\n",
    "\n",
    "# Step 4: Apply Lidstone (add-delta) smoothing with Jeffrey's smoothing\n",
    "def lidstone_smoothing(bigrams, vocabulary, delta):\n",
    "    count_bigram = defaultdict(int)\n",
    "    count_unigram = defaultdict(int)\n",
    "\n",
    "    for bigram in bigrams:\n",
    "        count_bigram[bigram] += 1\n",
    "        count_unigram[bigram[0]] += 1\n",
    "\n",
    "    def lidstone_probability(bigram):\n",
    "        numerator = count_bigram[bigram] + delta\n",
    "        denominator = count_unigram[bigram[0]] + (vocabulary * delta)\n",
    "        return numerator / denominator\n",
    "\n",
    "    return lidstone_probability\n",
    "\n",
    "# Step 5: Given a random bigram as input, print the probabilities using both smoothing methods\n",
    "def main():\n",
    "    filename = 'lab6-file.txt'  # Replace with the actual file path\n",
    "    text = read_text_from_file(filename)\n",
    "    bigrams = get_bigrams(text)\n",
    "    vocabulary = len(set(text.split()))  # Size of the vocabulary\n",
    "\n",
    "    delta = 0.5  # Adjust this value for Lidstone smoothing\n",
    "\n",
    "    laplace_prob = laplace_smoothing(bigrams, vocabulary)\n",
    "    lidstone_prob = lidstone_smoothing(bigrams, vocabulary, delta)\n",
    "\n",
    "    input_bigram = ('input', 'bigram')  # Replace with your random bigram\n",
    "\n",
    "    print(f\"Probability using Laplace (add-one) smoothing: {laplace_prob(input_bigram)}\")\n",
    "    print(f\"Probability using Lidstone (add-delta) with Jeffrey's smoothing: {lidstone_prob(input_bigram)}\")\n",
    "\n",
    "if __name__ == \"__main__\":\n",
    "    main()\n"
   ]
  }
 ],
 "metadata": {
  "kernelspec": {
   "display_name": "Python 3",
   "language": "python",
   "name": "python3"
  },
  "language_info": {
   "codemirror_mode": {
    "name": "ipython",
    "version": 3
   },
   "file_extension": ".py",
   "mimetype": "text/x-python",
   "name": "python",
   "nbconvert_exporter": "python",
   "pygments_lexer": "ipython3",
   "version": "3.8.8"
  }
 },
 "nbformat": 4,
 "nbformat_minor": 5
}
