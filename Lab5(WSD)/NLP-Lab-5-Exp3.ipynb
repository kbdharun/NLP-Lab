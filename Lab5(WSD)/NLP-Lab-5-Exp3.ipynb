{
 "cells": [
  {
   "cell_type": "markdown",
   "id": "d597a8c2",
   "metadata": {},
   "source": [
    "# Bayesian Disambiguation Algorithm"
   ]
  },
  {
   "cell_type": "markdown",
   "id": "97e28de1-57fa-4968-b252-96d0b0a8b94f",
   "metadata": {},
   "source": [
    "Code credits: [**V Tarun Thothadri**](https://github.com/TarunThothadri)"
   ]
  },
  {
   "cell_type": "code",
   "execution_count": 66,
   "id": "62b0e452",
   "metadata": {},
   "outputs": [],
   "source": [
    "import math as m"
   ]
  },
  {
   "cell_type": "code",
   "execution_count": 67,
   "id": "a9f8a06c",
   "metadata": {},
   "outputs": [
    {
     "data": {
      "text/plain": [
       "'\\nsl = int(input(\"Enter no of sensus : \"))\\nsll = {}\\nfor i in range(sl):\\n    sen = input(f\"Enter sensus (i+1) : \")\\n    ll = int(input(\"Enter no of corpus for this sensus : \"))\\n    for j in range(ll):'"
      ]
     },
     "execution_count": 67,
     "metadata": {},
     "output_type": "execute_result"
    }
   ],
   "source": [
    "'''di = {\n",
    "    \"Furniture\" : [\"put coat back chair sat down\",\"chair made timber company\",\"type different chair award fun use\"],\n",
    "    \"Position\" : [\"chair institute best\",\"award it chair\"]\n",
    "}'''\n",
    "\n",
    "di = {\n",
    "    \"Fish\" : [\"bass eat super\",\"bass lunch excellent\",\"bass ate like\"],\n",
    "    \"Music\" : [\"bass play music\",\"bass interest play\"]\n",
    "}\n",
    "\n",
    "\n",
    "'''\n",
    "sl = int(input(\"Enter no of sensus : \"))\n",
    "sll = {}\n",
    "for i in range(sl):\n",
    "    sen = input(f\"Enter sensus (i+1) : \")\n",
    "    ll = int(input(\"Enter no of corpus for this sensus : \"))\n",
    "    for j in range(ll):'''      "
   ]
  },
  {
   "cell_type": "code",
   "execution_count": 68,
   "id": "60271e94",
   "metadata": {},
   "outputs": [],
   "source": [
    "uws = {}\n",
    "for i in di:\n",
    "    for j in di[i]:\n",
    "        wrds = j.split(' ')\n",
    "        for wrd in wrds:\n",
    "            if wrd not in uws:\n",
    "                uws[wrd] = 1\n",
    "            else:\n",
    "                uws[wrd] += 1\n",
    "\n",
    "voc = list(uws.keys())\n",
    "v = len(voc)\n",
    "cw = 0\n",
    "for i in di:\n",
    "    cw += len(di[i])\n",
    "sensus = list(di.keys())"
   ]
  },
  {
   "cell_type": "markdown",
   "id": "b1bbf094",
   "metadata": {},
   "source": [
    "Training Algorithm"
   ]
  },
  {
   "cell_type": "code",
   "execution_count": 69,
   "id": "0ac06be3",
   "metadata": {},
   "outputs": [],
   "source": [
    "#Laplace Formula\n",
    "p={}\n",
    "for sk in sensus:\n",
    "    for vj in voc:\n",
    "        c_vjsk = 0\n",
    "        l_of_sen = di[sk]\n",
    "        for wl in l_of_sen:\n",
    "            c_vjsk += wl.count(vj)\n",
    "        p[(vj,sk)] = float((c_vjsk+1)/(len(di[sk])+v))\n",
    "\n",
    "psk = {}\n",
    "for sk in sensus:\n",
    "    psk[sk] = float(len(di[sk])/cw)"
   ]
  },
  {
   "cell_type": "markdown",
   "id": "4443f01b",
   "metadata": {},
   "source": [
    "Disambiguation Algorithm"
   ]
  },
  {
   "cell_type": "code",
   "execution_count": 70,
   "id": "2770e777",
   "metadata": {},
   "outputs": [],
   "source": [
    "score = {}\n",
    "for sk in sensus:\n",
    "    score[sk] = float(m.log(psk[sk],10))\n",
    "    for vj in voc:\n",
    "        score[sk] = float(score[sk] + float(m.log(p[vj,sk],10)))"
   ]
  },
  {
   "cell_type": "markdown",
   "id": "d96773ee",
   "metadata": {},
   "source": [
    "User Input"
   ]
  },
  {
   "cell_type": "code",
   "execution_count": 71,
   "id": "a36d5efa",
   "metadata": {},
   "outputs": [],
   "source": [
    "ui = \"bass super excellent play\"\n",
    "ui = ui.split(' ')"
   ]
  },
  {
   "cell_type": "code",
   "execution_count": 72,
   "id": "3f581dac",
   "metadata": {},
   "outputs": [
    {
     "name": "stdout",
     "output_type": "stream",
     "text": [
      "Fish\n",
      "Fish init :  -0.22184874961635637\n",
      "Fish  :  -0.7337321105952307\n",
      "Fish  :  -1.5466454672380863\n",
      "Fish  :  -2.359558823880942\n",
      "Fish  :  -3.473502176187779\n",
      "Music\n",
      "Music init :  -0.39794000867203755\n",
      "Music  :  -0.9999999999999998\n",
      "Music  :  -2.079181246047624\n",
      "Music  :  -3.158362492095249\n",
      "Music  :  -3.760422483423211\n",
      "For the given context, the sense is  Fish  with score :  -3.473502176187779\n"
     ]
    }
   ],
   "source": [
    "sc = {}\n",
    "for sk in sensus:\n",
    "    print(sk)\n",
    "    sc[sk] = float(m.log(psk[sk],10))\n",
    "    print(sk,\"init : \",sc[sk])\n",
    "    for vj in ui:\n",
    "        sc[sk] = float(float(sc[sk]) + float(m.log(p[vj,sk],10)))\n",
    "        print(sk,\" : \",sc[sk])\n",
    "\n",
    "maxn = -9999\n",
    "maxp = \"\"\n",
    "for s in sc:\n",
    "    if sc[s] > maxn :\n",
    "        maxn = float(sc[s])\n",
    "        maxp = s\n",
    "\n",
    "print(\"For the given context, the sense is \",maxp,\" with score : \",maxn)"
   ]
  }
 ],
 "metadata": {
  "kernelspec": {
   "display_name": "Python 3 (ipykernel)",
   "language": "python",
   "name": "python3"
  },
  "language_info": {
   "codemirror_mode": {
    "name": "ipython",
    "version": 3
   },
   "file_extension": ".py",
   "mimetype": "text/x-python",
   "name": "python",
   "nbconvert_exporter": "python",
   "pygments_lexer": "ipython3",
   "version": "3.11.5"
  }
 },
 "nbformat": 4,
 "nbformat_minor": 5
}
