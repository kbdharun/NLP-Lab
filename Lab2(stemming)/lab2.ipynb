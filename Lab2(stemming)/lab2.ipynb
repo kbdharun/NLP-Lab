{
 "cells": [
  {
   "cell_type": "markdown",
   "id": "8f151375",
   "metadata": {},
   "source": [
    "# Lab 2\n",
    "\n",
    "## Stemming Algorithms"
   ]
  },
  {
   "cell_type": "markdown",
   "id": "36b906d7",
   "metadata": {},
   "source": [
    "### Porter Stemming Algorithm"
   ]
  },
  {
   "cell_type": "code",
   "execution_count": 1,
   "id": "451ac318",
   "metadata": {},
   "outputs": [
    {
     "data": {
      "text/plain": [
       "'write'"
      ]
     },
     "execution_count": 1,
     "metadata": {},
     "output_type": "execute_result"
    }
   ],
   "source": [
    "import nltk\n",
    "from nltk.stem import PorterStemmer\n",
    "word_stemmer = PorterStemmer()\n",
    "word_stemmer = PorterStemmer()\n",
    "word_stemmer.stem('writing')"
   ]
  },
  {
   "cell_type": "code",
   "execution_count": 2,
   "id": "4dede17e",
   "metadata": {},
   "outputs": [
    {
     "data": {
      "text/plain": [
       "'eat'"
      ]
     },
     "execution_count": 2,
     "metadata": {},
     "output_type": "execute_result"
    }
   ],
   "source": [
    "word_stemmer.stem('eating')"
   ]
  },
  {
   "cell_type": "markdown",
   "id": "fdc45a75",
   "metadata": {},
   "source": [
    "### Lancaster Stemming Algorithm"
   ]
  },
  {
   "cell_type": "code",
   "execution_count": 3,
   "id": "01c9cd99",
   "metadata": {},
   "outputs": [
    {
     "data": {
      "text/plain": [
       "'eat'"
      ]
     },
     "execution_count": 3,
     "metadata": {},
     "output_type": "execute_result"
    }
   ],
   "source": [
    "import nltk\n",
    "from nltk.stem import LancasterStemmer\n",
    "Lanc_stemmer = LancasterStemmer()\n",
    "Lanc_stemmer = LancasterStemmer()\n",
    "Lanc_stemmer.stem('eats')"
   ]
  },
  {
   "cell_type": "code",
   "execution_count": 4,
   "id": "7d22b098",
   "metadata": {},
   "outputs": [
    {
     "data": {
      "text/plain": [
       "'run'"
      ]
     },
     "execution_count": 4,
     "metadata": {},
     "output_type": "execute_result"
    }
   ],
   "source": [
    "Lanc_stemmer.stem('runs')"
   ]
  },
  {
   "cell_type": "markdown",
   "id": "f7ee7a63",
   "metadata": {},
   "source": [
    "#### Regular Expression Stemming Algorithm"
   ]
  },
  {
   "cell_type": "code",
   "execution_count": 5,
   "id": "e19ac64d",
   "metadata": {},
   "outputs": [
    {
     "data": {
      "text/plain": [
       "'eat'"
      ]
     },
     "execution_count": 5,
     "metadata": {},
     "output_type": "execute_result"
    }
   ],
   "source": [
    "import nltk\n",
    "from nltk.stem import RegexpStemmer\n",
    "Reg_stemmer = RegexpStemmer('ing')\n",
    "Reg_stemmer.stem('eating')"
   ]
  },
  {
   "cell_type": "code",
   "execution_count": 16,
   "id": "5f00fe2b",
   "metadata": {},
   "outputs": [
    {
     "data": {
      "text/plain": [
       "'eat'"
      ]
     },
     "execution_count": 16,
     "metadata": {},
     "output_type": "execute_result"
    }
   ],
   "source": [
    "import nltk\n",
    "from nltk.stem import RegexpStemmer\n",
    "Reg_stemmer = RegexpStemmer('ing')\n",
    "Reg_stemmer.stem('ingeat')"
   ]
  },
  {
   "cell_type": "markdown",
   "id": "8cb6b188",
   "metadata": {},
   "source": [
    "### Snowball stemming algorithm"
   ]
  },
  {
   "cell_type": "code",
   "execution_count": 9,
   "id": "03fa74c5",
   "metadata": {},
   "outputs": [
    {
     "data": {
      "text/plain": [
       "('arabic',\n",
       " 'danish',\n",
       " 'dutch',\n",
       " 'english',\n",
       " 'finnish',\n",
       " 'french',\n",
       " 'german',\n",
       " 'hungarian',\n",
       " 'italian',\n",
       " 'norwegian',\n",
       " 'porter',\n",
       " 'portuguese',\n",
       " 'romanian',\n",
       " 'russian',\n",
       " 'spanish',\n",
       " 'swedish')"
      ]
     },
     "execution_count": 9,
     "metadata": {},
     "output_type": "execute_result"
    }
   ],
   "source": [
    "import nltk\n",
    "from nltk.stem import SnowballStemmer\n",
    "SnowballStemmer.languages"
   ]
  },
  {
   "cell_type": "code",
   "execution_count": 13,
   "id": "16ec90c8",
   "metadata": {},
   "outputs": [
    {
     "data": {
      "text/plain": [
       "'bonjour'"
      ]
     },
     "execution_count": 13,
     "metadata": {},
     "output_type": "execute_result"
    }
   ],
   "source": [
    "import nltk\n",
    "from nltk.stem import SnowballStemmer\n",
    "French_stemmer = SnowballStemmer('french')\n",
    "French_stemmer.stem ('Bonjoura')"
   ]
  },
  {
   "cell_type": "markdown",
   "id": "985a7537",
   "metadata": {},
   "source": [
    "## Lemmatization"
   ]
  },
  {
   "cell_type": "code",
   "execution_count": 14,
   "id": "49e742a7",
   "metadata": {
    "scrolled": true
   },
   "outputs": [
    {
     "data": {
      "text/plain": [
       "'eating'"
      ]
     },
     "execution_count": 14,
     "metadata": {},
     "output_type": "execute_result"
    }
   ],
   "source": [
    "import nltk\n",
    "from nltk.stem import WordNetLemmatizer\n",
    "lemmatizer = WordNetLemmatizer()\n",
    "lemmatizer.lemmatize('eating')"
   ]
  },
  {
   "cell_type": "code",
   "execution_count": 17,
   "id": "991ca92f",
   "metadata": {},
   "outputs": [
    {
     "data": {
      "text/plain": [
       "'book'"
      ]
     },
     "execution_count": 17,
     "metadata": {},
     "output_type": "execute_result"
    }
   ],
   "source": [
    "import nltk\n",
    "from nltk.stem import WordNetLemmatizer\n",
    "lemmatizer = WordNetLemmatizer()\n",
    "lemmatizer.lemmatize('books')"
   ]
  },
  {
   "cell_type": "markdown",
   "id": "4a80fc99",
   "metadata": {},
   "source": [
    "## Difference between Stemming & Lemmatization"
   ]
  },
  {
   "cell_type": "code",
   "execution_count": 18,
   "id": "c19cb44e",
   "metadata": {},
   "outputs": [
    {
     "data": {
      "text/plain": [
       "'believ'"
      ]
     },
     "execution_count": 18,
     "metadata": {},
     "output_type": "execute_result"
    }
   ],
   "source": [
    "import nltk\n",
    "from nltk.stem import PorterStemmer\n",
    "word_stemmer = PorterStemmer()\n",
    "word_stemmer.stem('believes')"
   ]
  },
  {
   "cell_type": "code",
   "execution_count": 20,
   "id": "cc71bced",
   "metadata": {},
   "outputs": [
    {
     "data": {
      "text/plain": [
       "'belief'"
      ]
     },
     "execution_count": 20,
     "metadata": {},
     "output_type": "execute_result"
    }
   ],
   "source": [
    "import nltk\n",
    "from nltk.stem import WordNetLemmatizer\n",
    "lemmatizer = WordNetLemmatizer()\n",
    "lemmatizer.lemmatize('believes')"
   ]
  },
  {
   "cell_type": "markdown",
   "id": "a2c74540",
   "metadata": {},
   "source": [
    "## Ex. 0\n",
    "\n",
    "**To Do** (take 100 words) [Write in observation]\n",
    "1. Tokenizer, Display total no of unique words.\n",
    "2. Frequency of each word without duplicate entries.\n",
    "3. Joint probability of each words."
   ]
  },
  {
   "cell_type": "code",
   "execution_count": 41,
   "id": "f80aaa04",
   "metadata": {},
   "outputs": [
    {
     "name": "stdout",
     "output_type": "stream",
     "text": [
      "Tokenized words\n"
     ]
    },
    {
     "data": {
      "text/plain": [
       "['Lorem',\n",
       " 'ipsum',\n",
       " 'dolor',\n",
       " 'sit',\n",
       " 'amet',\n",
       " 'consectetur',\n",
       " 'adipiscing',\n",
       " 'elit',\n",
       " 'Aliquam',\n",
       " 'tincidunt',\n",
       " 'dapibus',\n",
       " 'sapien',\n",
       " 'id',\n",
       " 'tincidunt',\n",
       " 'Cras',\n",
       " 'sit',\n",
       " 'amet',\n",
       " 'lectus',\n",
       " 'magna',\n",
       " 'Praesent',\n",
       " 'efficitur',\n",
       " 'ligula',\n",
       " 'semper',\n",
       " 'aliquam',\n",
       " 'tellus',\n",
       " 'nec',\n",
       " 'iaculis',\n",
       " 'lectus',\n",
       " 'Vestibulum',\n",
       " 'tincidunt',\n",
       " 'risus',\n",
       " 'quis',\n",
       " 'ligula',\n",
       " 'congue',\n",
       " 'nec',\n",
       " 'accumsan',\n",
       " 'ipsum',\n",
       " 'aliquet',\n",
       " 'Ut',\n",
       " 'pharetra',\n",
       " 'ex',\n",
       " 'non',\n",
       " 'gravida',\n",
       " 'mattis',\n",
       " 'lorem',\n",
       " 'libero',\n",
       " 'egestas',\n",
       " 'sapien',\n",
       " 'vel',\n",
       " 'placerat',\n",
       " 'magna',\n",
       " 'turpis',\n",
       " 'a',\n",
       " 'enim',\n",
       " 'Nullam',\n",
       " 'porttitor',\n",
       " 'leo',\n",
       " 'ac',\n",
       " 'risus',\n",
       " 'sagittis',\n",
       " 'a',\n",
       " 'gravida',\n",
       " 'ligula',\n",
       " 'dapibus',\n",
       " 'Donec',\n",
       " 'eu',\n",
       " 'tempus',\n",
       " 'arcu',\n",
       " 'Vivamus',\n",
       " 'ac',\n",
       " 'pellentesque',\n",
       " 'tellus',\n",
       " '.',\n",
       " 'Etiam',\n",
       " 'felis',\n",
       " 'dui',\n",
       " 'sodales',\n",
       " 'eu',\n",
       " 'risus',\n",
       " 'ut',\n",
       " 'congue',\n",
       " 'pulvinar',\n",
       " 'nisi',\n",
       " 'Vestibulum',\n",
       " 'vitae',\n",
       " 'massa',\n",
       " 'sed',\n",
       " 'mauris',\n",
       " 'iaculis',\n",
       " 'tincidunt',\n",
       " 'vitae',\n",
       " 'ut',\n",
       " 'ipsum',\n",
       " 'Sed',\n",
       " 'varius',\n",
       " 'vitae',\n",
       " 'turpis',\n",
       " 'nec',\n",
       " 'auctor',\n",
       " 'Ut',\n",
       " 'pulvinar']"
      ]
     },
     "execution_count": 41,
     "metadata": {},
     "output_type": "execute_result"
    }
   ],
   "source": [
    "import nltk\n",
    "from nltk.tokenize import word_tokenize\n",
    "text = '''Lorem ipsum dolor sit amet consectetur adipiscing elit Aliquam tincidunt dapibus sapien id tincidunt Cras sit amet lectus magna Praesent efficitur ligula semper aliquam tellus nec iaculis lectus Vestibulum tincidunt risus quis ligula congue nec accumsan ipsum aliquet Ut pharetra ex non gravida mattis lorem libero egestas sapien vel placerat magna turpis a enim Nullam porttitor leo ac risus sagittis a gravida ligula dapibus Donec eu tempus arcu Vivamus ac pellentesque tellus. Etiam felis dui sodales eu risus ut congue pulvinar nisi Vestibulum vitae massa sed mauris iaculis tincidunt vitae ut ipsum Sed varius vitae turpis nec auctor Ut pulvinar'''\n",
    "\n",
    "print('Tokenized words')\n",
    "word_tokenize(text)"
   ]
  },
  {
   "cell_type": "code",
   "execution_count": 40,
   "id": "1d074d87",
   "metadata": {},
   "outputs": [
    {
     "name": "stdout",
     "output_type": "stream",
     "text": [
      "{'Lorem': 1, 'ipsum': 3, 'dolor': 1, 'sit': 2, 'amet': 2, 'consectetur': 1, 'adipiscing': 1, 'elit': 1, 'Aliquam': 1, 'tincidunt': 4, 'dapibus': 2, 'sapien': 2, 'id': 1, 'Cras': 1, 'lectus': 2, 'magna': 2, 'Praesent': 1, 'efficitur': 1, 'ligula': 3, 'semper': 1, 'aliquam': 1, 'tellus': 2, 'nec': 3, 'iaculis': 2, 'Vestibulum': 2, 'risus': 3, 'quis': 1, 'congue': 2, 'accumsan': 1, 'aliquet': 1, 'Ut': 2, 'pharetra': 1, 'ex': 1, 'non': 1, 'gravida': 2, 'mattis': 1, 'lorem': 1, 'libero': 1, 'egestas': 1, 'vel': 1, 'placerat': 1, 'turpis': 2, 'a': 2, 'enim': 1, 'Nullam': 1, 'porttitor': 1, 'leo': 1, 'ac': 2, 'sagittis': 1, 'Donec': 1, 'eu': 2, 'tempus': 1, 'arcu': 1, 'Vivamus': 1, 'pellentesque': 1, '.': 1, 'Etiam': 1, 'felis': 1, 'dui': 1, 'sodales': 1, 'ut': 2, 'pulvinar': 2, 'nisi': 1, 'vitae': 3, 'massa': 1, 'sed': 1, 'mauris': 1, 'Sed': 1, 'varius': 1, 'auctor': 1}\n"
     ]
    }
   ],
   "source": [
    "words = nltk.tokenize.word_tokenize(text)\n",
    "# fdist1 = nltk.FreqDist(words)\n",
    "\n",
    "# unique_word_freq = dict((word, freq) for word, freq in fdist1.items() if not word.isdigit())\n",
    "\n",
    "# print(unique_word_freq)\n",
    "\n"
   ]
  },
  {
   "cell_type": "code",
   "execution_count": 48,
   "id": "f48e6c6e",
   "metadata": {},
   "outputs": [
    {
     "name": "stdout",
     "output_type": "stream",
     "text": [
      "Frequency of the word is:\n",
      "{'Air': 1, 'pollution': 1, 'is': 2, 'a': 2, 'major': 1, 'environmental': 1, 'problem': 1, 'in': 1, 'many': 1, 'parts': 1, 'of': 3, 'the': 3, 'world.': 1, 'It': 1, 'caused': 1, 'by': 1, 'release': 1, 'harmful': 1, 'pollutants': 2, 'into': 1, 'atmosphere.': 1, 'These': 1, 'can': 2, 'come': 2, 'from': 2, 'variety': 1, 'sources,': 2, 'including': 1, 'factories,': 1, 'power': 1, 'plants,': 1, 'cars,': 1, 'and': 2, 'airplanes.': 1, 'They': 1, 'also': 1, 'natural': 1, 'such': 1, 'as': 1, 'volcanoes': 1, 'forest': 1, 'fires.': 1}\n",
      "Minimum freq for word: 1\n",
      "Maximum freq for word: 3\n",
      "Total no of words: 82\n",
      "Total no of unique words: 82\n"
     ]
    }
   ],
   "source": [
    "mystring=\"Air pollution is a major environmental problem in many parts of the world. It is caused by the release of harmful pollutants into the atmosphere. These pollutants can come from a variety of sources, including factories, power plants, cars, and airplanes. They can also come from natural sources, such as volcanoes and forest fires.\"\n",
    "mylist=[]\n",
    "mylist=mystring.split()\n",
    "freq=[mylist.count(p) for p in mylist]\n",
    "mini=min([mylist.count(p) for p in mylist])\n",
    "maxi=max([mylist.count(p) for p in mylist])\n",
    "total=sum([mylist.count(p) for p in mylist])\n",
    "print(\"Frequency of the word is:\")\n",
    "print(dict(zip(mylist,freq)))\n",
    "print(\"Minimum freq for word:\",mini)\n",
    "print(\"Maximum freq for word:\",maxi)\n",
    "print(\"Total no of words:\",total)\n",
    "print(\"Total no of unique words:\",total1)\n"
   ]
  },
  {
   "cell_type": "code",
   "execution_count": 50,
   "id": "478c7d3d",
   "metadata": {},
   "outputs": [
    {
     "name": "stdout",
     "output_type": "stream",
     "text": [
      "(s (dp (d the) (np dog)) (vp (v chased) (dp (d the) (np cat))))\n"
     ]
    }
   ],
   "source": [
    "from nltk.tree import *\n",
    "dp1 = Tree('dp', [Tree('d', ['the']), Tree('np', ['dog'])])\n",
    "dp2 = Tree('dp', [Tree('d', ['the']), Tree('np', ['cat'])])\n",
    "vp = Tree('vp', [Tree('v', ['chased']), dp2])\n",
    "tree = Tree('s', [dp1, vp])\n",
    "print(tree)"
   ]
  },
  {
   "cell_type": "code",
   "execution_count": 51,
   "id": "cb31d074",
   "metadata": {},
   "outputs": [
    {
     "data": {
      "text/plain": [
       "('dp', 'dp', 'vp', 's')"
      ]
     },
     "execution_count": 51,
     "metadata": {},
     "output_type": "execute_result"
    }
   ],
   "source": [
    "dp1.label(), dp2.label(), vp.label(), tree.label()"
   ]
  },
  {
   "cell_type": "code",
   "execution_count": 52,
   "id": "f18e510a",
   "metadata": {},
   "outputs": [
    {
     "name": "stdout",
     "output_type": "stream",
     "text": [
      "cat\n"
     ]
    }
   ],
   "source": [
    "print(tree[1,1,1,0])"
   ]
  },
  {
   "cell_type": "code",
   "execution_count": 53,
   "id": "e966248c",
   "metadata": {},
   "outputs": [
    {
     "name": "stdout",
     "output_type": "stream",
     "text": [
      "[(), (0,), (0, 0), (0, 0, 0), (0, 1), (0, 1, 0), (1,), (1, 0), (1, 0, 0), (1, 1), (1, 1, 0), (1, 1, 0, 0), (1, 1, 1), (1, 1, 1, 0)]\n"
     ]
    }
   ],
   "source": [
    "print(tree.treepositions())"
   ]
  },
  {
   "cell_type": "code",
   "execution_count": 54,
   "id": "a3d9848d",
   "metadata": {},
   "outputs": [
    {
     "name": "stdout",
     "output_type": "stream",
     "text": [
      "\\Tree [.s\n",
      "        [.dp [.d the ] [.np dog ] ]\n",
      "        [.vp [.v chased ] [.dp [.d the ] [.np cat ] ] ] ]\n"
     ]
    }
   ],
   "source": [
    "print(tree.pformat_latex_qtree())"
   ]
  },
  {
   "cell_type": "code",
   "execution_count": 55,
   "id": "5175df28",
   "metadata": {},
   "outputs": [
    {
     "name": "stdout",
     "output_type": "stream",
     "text": [
      "              s               \n",
      "      ________|_____           \n",
      "     |              vp        \n",
      "     |         _____|___       \n",
      "     dp       |         dp    \n",
      "  ___|___     |      ___|___   \n",
      " d       np   v     d       np\n",
      " |       |    |     |       |  \n",
      "the     dog chased the     cat\n",
      "\n"
     ]
    }
   ],
   "source": [
    "tree.pretty_print()"
   ]
  },
  {
   "cell_type": "code",
   "execution_count": 56,
   "id": "1e361781",
   "metadata": {},
   "outputs": [
    {
     "name": "stdout",
     "output_type": "stream",
     "text": [
      "                       s                        \n",
      "        ┌──────────────┴────────┐                   \n",
      "        │                       vp              \n",
      "        │              ┌────────┴──────┐            \n",
      "        dp             │               dp       \n",
      " ┌──────┴──────┐       │        ┌──────┴──────┐     \n",
      " d             np      v        d             np\n",
      " │             │       │        │             │     \n",
      "the           dog    chased    the           cat\n",
      "\n"
     ]
    }
   ],
   "source": [
    "tree.pretty_print(unicodelines=True, nodedist=4)"
   ]
  },
  {
   "cell_type": "code",
   "execution_count": 57,
   "id": "6d67880b",
   "metadata": {},
   "outputs": [
    {
     "name": "stdout",
     "output_type": "stream",
     "text": [
      "(S (NP I) (VP (V enjoyed) (NP my cookie)))\n"
     ]
    }
   ],
   "source": [
    "tree2 = Tree.fromstring('(S (NP I) (VP (V enjoyed) (NP my cookie)))')\n",
    "print(tree2)"
   ]
  },
  {
   "cell_type": "code",
   "execution_count": 59,
   "id": "b1786e29",
   "metadata": {},
   "outputs": [
    {
     "data": {
      "text/plain": [
       "True"
      ]
     },
     "execution_count": 59,
     "metadata": {},
     "output_type": "execute_result"
    }
   ],
   "source": [
    "tree == Tree.fromstring(str(tree))"
   ]
  },
  {
   "cell_type": "code",
   "execution_count": 60,
   "id": "e315f11b",
   "metadata": {},
   "outputs": [
    {
     "data": {
      "text/plain": [
       "True"
      ]
     },
     "execution_count": 60,
     "metadata": {},
     "output_type": "execute_result"
    }
   ],
   "source": [
    "tree2 == Tree.fromstring(str(tree2))"
   ]
  },
  {
   "cell_type": "code",
   "execution_count": 61,
   "id": "9d563eb0",
   "metadata": {},
   "outputs": [
    {
     "data": {
      "text/plain": [
       "False"
      ]
     },
     "execution_count": 61,
     "metadata": {},
     "output_type": "execute_result"
    }
   ],
   "source": [
    "tree == tree2"
   ]
  },
  {
   "cell_type": "code",
   "execution_count": 62,
   "id": "8ca59597",
   "metadata": {},
   "outputs": [
    {
     "data": {
      "text/plain": [
       "False"
      ]
     },
     "execution_count": 62,
     "metadata": {},
     "output_type": "execute_result"
    }
   ],
   "source": [
    "tree == Tree.fromstring(str(tree2))"
   ]
  },
  {
   "cell_type": "code",
   "execution_count": 63,
   "id": "cdb17ebd",
   "metadata": {},
   "outputs": [
    {
     "data": {
      "text/plain": [
       "False"
      ]
     },
     "execution_count": 63,
     "metadata": {},
     "output_type": "execute_result"
    }
   ],
   "source": [
    "tree2 == Tree.fromstring(str(tree))"
   ]
  },
  {
   "cell_type": "code",
   "execution_count": 64,
   "id": "ce361e1c",
   "metadata": {},
   "outputs": [
    {
     "name": "stdout",
     "output_type": "stream",
     "text": [
      "(S (NP I) (VP (V enjoyed) (NP my cookie)))\n"
     ]
    }
   ],
   "source": [
    "tree = Tree.fromstring('(S (NP I) (VP (V enjoyed) (NP my cookie)))')\n",
    "print(tree)"
   ]
  },
  {
   "cell_type": "code",
   "execution_count": 65,
   "id": "42749bc6",
   "metadata": {},
   "outputs": [
    {
     "name": "stdout",
     "output_type": "stream",
     "text": [
      "(S (NP I) (VP (V enjoyed) (NP my cookie)))\n",
      "(S (NP I) (VP (V enjoyed) (NP my cookie)))\n"
     ]
    }
   ],
   "source": [
    "print(Tree.fromstring('[S [NP I] [VP [V enjoyed] [NP my cookie]]]',brackets='[]'))\n",
    "print(Tree.fromstring('<S <NP I> <VP <V enjoyed> <NP my cookie>>>',brackets='<>'))"
   ]
  }
 ],
 "metadata": {
  "kernelspec": {
   "display_name": "Python 3",
   "language": "python",
   "name": "python3"
  },
  "language_info": {
   "codemirror_mode": {
    "name": "ipython",
    "version": 3
   },
   "file_extension": ".py",
   "mimetype": "text/x-python",
   "name": "python",
   "nbconvert_exporter": "python",
   "pygments_lexer": "ipython3",
   "version": "3.8.8"
  }
 },
 "nbformat": 4,
 "nbformat_minor": 5
}
