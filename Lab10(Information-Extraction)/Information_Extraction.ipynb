{
 "cells": [
  {
   "cell_type": "code",
   "execution_count": 1,
   "id": "e4f4675a",
   "metadata": {
    "id": "e4f4675a"
   },
   "outputs": [],
   "source": [
    "import re\n",
    "import nltk\n",
    "from nltk.tokenize import word_tokenize, sent_tokenize\n",
    "from nltk.corpus import stopwords\n",
    "from nltk.stem import PorterStemmer"
   ]
  },
  {
   "cell_type": "code",
   "execution_count": 2,
   "id": "0466f1f5",
   "metadata": {
    "id": "0466f1f5"
   },
   "outputs": [],
   "source": [
    "\n",
    "# Sample text data\n",
    "corpus = [\n",
    "    \"John is the CEO of XYZ Corp.\",\n",
    "    \"Jane is an engineer at ABC Corp.\",\n",
    "    \"XYZ Corp. is a tech company.\",\n",
    "    \"ABC Corp. develops software products.\",\n",
    "]"
   ]
  },
  {
   "cell_type": "code",
   "execution_count": 3,
   "id": "b0995514",
   "metadata": {
    "id": "b0995514"
   },
   "outputs": [],
   "source": [
    "# Define seed pairs (Person, Role)\n",
    "seed_pairs = [(\"John\", \"CEO\"), (\"Jane\", \"engineer\")]"
   ]
  },
  {
   "cell_type": "code",
   "execution_count": 4,
   "id": "2db07acb",
   "metadata": {
    "colab": {
     "base_uri": "https://localhost:8080/"
    },
    "id": "2db07acb",
    "outputId": "54a010ef-93e9-4972-eb09-9afe931adb2f"
   },
   "outputs": [
    {
     "name": "stderr",
     "output_type": "stream",
     "text": [
      "[nltk_data] Downloading package punkt to /root/nltk_data...\n",
      "[nltk_data]   Unzipping tokenizers/punkt.zip.\n",
      "[nltk_data] Downloading package stopwords to /root/nltk_data...\n",
      "[nltk_data]   Unzipping corpora/stopwords.zip.\n"
     ]
    }
   ],
   "source": [
    "# Initialize NLTK components\n",
    "nltk.download(\"punkt\")\n",
    "nltk.download(\"stopwords\")\n",
    "stemmer = PorterStemmer()\n",
    "stop_words = set(stopwords.words(\"english\"))"
   ]
  },
  {
   "cell_type": "code",
   "execution_count": 5,
   "id": "ebd20aeb",
   "metadata": {
    "id": "ebd20aeb"
   },
   "outputs": [],
   "source": [
    "# Define a function to extract relationships from text\n",
    "def extract_relationships(text):\n",
    "    relationships = []\n",
    "    sentences = sent_tokenize(text)\n",
    "\n",
    "    for sentence in sentences:\n",
    "        for pair in seed_pairs:\n",
    "            person, role = pair\n",
    "            pattern = re.escape(person) + r\".*?\" + re.escape(role)\n",
    "            matches = re.finditer(pattern, sentence)\n",
    "\n",
    "            for match in matches:\n",
    "                relationships.append((person, role))\n",
    "\n",
    "    return relationships"
   ]
  },
  {
   "cell_type": "code",
   "execution_count": 6,
   "id": "b9a672d6",
   "metadata": {
    "id": "b9a672d6"
   },
   "outputs": [],
   "source": [
    "# Define a function to update seed pairs with new relationships\n",
    "def update_seed_pairs(relationships):\n",
    "    new_seed_pairs = []\n",
    "\n",
    "    for relationship in relationships:\n",
    "        person, role = relationship\n",
    "        person = stemmer.stem(person.lower())\n",
    "        role = stemmer.stem(role.lower())\n",
    "\n",
    "        if person not in stop_words and role not in stop_words:\n",
    "            new_seed_pairs.append((person, role))\n",
    "\n",
    "    return new_seed_pairs"
   ]
  },
  {
   "cell_type": "code",
   "execution_count": 7,
   "id": "4a8f3f02",
   "metadata": {
    "colab": {
     "base_uri": "https://localhost:8080/"
    },
    "id": "4a8f3f02",
    "outputId": "cf0f328f-652b-4eb3-a99b-2c89511878f0"
   },
   "outputs": [
    {
     "name": "stdout",
     "output_type": "stream",
     "text": [
      "Iteration 1: Seed pairs: [('john', 'ceo'), ('jane', 'engin')]\n",
      "Iteration 2: Seed pairs: [('john', 'ceo'), ('jane', 'engin')]\n",
      "Iteration 3: Seed pairs: [('john', 'ceo'), ('jane', 'engin')]\n",
      "Iteration 4: Seed pairs: [('john', 'ceo'), ('jane', 'engin')]\n",
      "Iteration 5: Seed pairs: [('john', 'ceo'), ('jane', 'engin')]\n",
      "Final extracted relationships:\n",
      "[('John', 'CEO'), ('Jane', 'engineer')]\n"
     ]
    }
   ],
   "source": [
    "# Bootstrapping process\n",
    "for i in range(5):  # Perform 5 iterations\n",
    "    new_relationships = []\n",
    "    for document in corpus:\n",
    "        new_relationships.extend(extract_relationships(document))\n",
    "\n",
    "    new_seed_pairs = update_seed_pairs(new_relationships)\n",
    "    print(f\"Iteration {i + 1}: Seed pairs: {new_seed_pairs}\")\n",
    "\n",
    "    # Break if no new relationships found\n",
    "    if not new_seed_pairs:\n",
    "        break\n",
    "\n",
    "print(\"Final extracted relationships:\")\n",
    "print(seed_pairs)\n"
   ]
  }
 ],
 "metadata": {
  "colab": {
   "provenance": []
  },
  "kernelspec": {
   "display_name": "Python 3 (ipykernel)",
   "language": "python",
   "name": "python3"
  },
  "language_info": {
   "codemirror_mode": {
    "name": "ipython",
    "version": 3
   },
   "file_extension": ".py",
   "mimetype": "text/x-python",
   "name": "python",
   "nbconvert_exporter": "python",
   "pygments_lexer": "ipython3",
   "version": "3.12.0"
  }
 },
 "nbformat": 4,
 "nbformat_minor": 5
}
