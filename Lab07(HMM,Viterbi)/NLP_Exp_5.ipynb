{
  "cells": [
    {
      "cell_type": "markdown",
      "id": "3be05c09",
      "metadata": {
        "id": "3be05c09"
      },
      "source": [
        "# Viterbi Algorithm\n",
        "\n",
        "Implement the Viterbi algorithm to find the probability of a word sequence, and infer the best tag sequence using Hidden Markov Model."
      ]
    },
    {
      "cell_type": "code",
      "source": [
        "def viterbi_algorithm(op):\n",
        "    delta = []\n",
        "    psi = []\n",
        "\n",
        "    # Initialize the delta and psi matrices\n",
        "    for _ in range(len(op)):\n",
        "        delta.append([0.0, 0.0])\n",
        "        psi.append([0, 0])\n",
        "\n",
        "    # Initialization step\n",
        "    for i in range(len(states)):\n",
        "        delta[0][i] = ip[i] * opp[i][0]\n",
        "\n",
        "    # Recursion step\n",
        "    for t in range(1, len(op)):\n",
        "        for j in range(len(states)):\n",
        "            max_prob = 0.0\n",
        "            max_state = 0\n",
        "\n",
        "            for i in range(len(states)):\n",
        "                prob = delta[t - 1][i] * stp[i][j] * opp[j][t]\n",
        "                if prob > max_prob:\n",
        "                    max_prob = prob\n",
        "                    max_state = i\n",
        "\n",
        "            delta[t][j] = max_prob\n",
        "            psi[t][j] = max_state\n",
        "\n",
        "    # Termination step\n",
        "    best_path_prob = max(delta[-1])\n",
        "    best_last_state = delta[-1].index(best_path_prob)\n",
        "\n",
        "    # Backtrack to find the best tag sequence\n",
        "    best_path = [best_last_state]\n",
        "    for t in range(len(op) - 1, 0, -1):\n",
        "        best_last_state = psi[t][best_last_state]\n",
        "        best_path.insert(0, best_last_state)\n",
        "\n",
        "    return best_path, best_path_prob\n",
        "\n",
        "states = []\n",
        "ip = []\n",
        "stp = []\n",
        "op = []\n",
        "opp = []\n",
        "\n",
        "ls = int(input(\"Enter no of states : \"))\n",
        "\n",
        "for i in range(ls):\n",
        "    states.append(input(f\"Enter state {i+1} : \"))\n",
        "    ip.append(float(input(f\"Enter initial probability of state {states[i]} : \")))\n",
        "\n",
        "for i in range(ls):\n",
        "    sp_row = []\n",
        "    for j in range(ls):\n",
        "        sp = float(input(f\"Enter transition probability from {states[i]} to {states[j]} : \"))\n",
        "        sp_row.append(sp)\n",
        "    stp.append(sp_row)\n",
        "\n",
        "lop = int(input(\"Enter no of observations : \"))\n",
        "\n",
        "for i in range(lop):\n",
        "    op.append(input(f\"Enter observation {i+1} : \"))\n",
        "\n",
        "for i in range(ls):\n",
        "    opp_row = []\n",
        "    for j in range(lop):\n",
        "        opp_row.append(float(input(f\"Enter emission probability of {op[j]} from {states[i]} : \")))\n",
        "    opp.append(opp_row)\n",
        "\n",
        "# Call the Viterbi algorithm\n",
        "best_tag_sequence, probability = viterbi_algorithm(op)\n",
        "\n",
        "# Print the best tag sequence and its probability\n",
        "print(\"Best Tag Sequence:\", [states[i] for i in best_tag_sequence])\n",
        "print(\"Probability of the Best Tag Sequence:\", probability)\n"
      ],
      "metadata": {
        "id": "V6IoC75H-5GT",
        "outputId": "b00142d5-6731-4420-a6e7-8f1b0d2b3f71",
        "colab": {
          "base_uri": "https://localhost:8080/"
        }
      },
      "id": "V6IoC75H-5GT",
      "execution_count": 2,
      "outputs": [
        {
          "output_type": "stream",
          "name": "stdout",
          "text": [
            "Enter no of states : 2\n",
            "Enter state 1 : cp\n",
            "Enter initial probability of state cp : 1.0\n",
            "Enter state 2 : ip\n",
            "Enter initial probability of state ip : 0.0\n",
            "Enter transition probability from cp to cp : 0.7\n",
            "Enter transition probability from cp to ip : 0.3\n",
            "Enter transition probability from ip to cp : 0.5\n",
            "Enter transition probability from ip to ip : 0.5\n",
            "Enter no of observations : 3\n",
            "Enter observation 1 : lem\n",
            "Enter observation 2 : ice\n",
            "Enter observation 3 : cola\n",
            "Enter emission probability of lem from cp : 0.3\n",
            "Enter emission probability of ice from cp : 0.1\n",
            "Enter emission probability of cola from cp : 0.6\n",
            "Enter emission probability of lem from ip : 0.2\n",
            "Enter emission probability of ice from ip : 0.7\n",
            "Enter emission probability of cola from ip : 0.1\n",
            "Best Tag Sequence: ['cp', 'ip', 'cp']\n",
            "Probability of the Best Tag Sequence: 0.0189\n"
          ]
        }
      ]
    }
  ],
  "metadata": {
    "kernelspec": {
      "display_name": "Python 3 (ipykernel)",
      "language": "python",
      "name": "python3"
    },
    "language_info": {
      "codemirror_mode": {
        "name": "ipython",
        "version": 3
      },
      "file_extension": ".py",
      "mimetype": "text/x-python",
      "name": "python",
      "nbconvert_exporter": "python",
      "pygments_lexer": "ipython3",
      "version": "3.11.5"
    },
    "colab": {
      "provenance": []
    }
  },
  "nbformat": 4,
  "nbformat_minor": 5
}