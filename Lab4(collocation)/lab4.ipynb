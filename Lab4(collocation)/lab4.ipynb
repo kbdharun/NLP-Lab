{
 "cells": [
  {
   "cell_type": "markdown",
   "id": "aae9995f",
   "metadata": {},
   "source": [
    "# Ex 2\n",
    "\n",
    "**To do:** Perform t-Test and Chi-Square test to check whether a given sequence of words is collocation or not."
   ]
  },
  {
   "cell_type": "code",
   "execution_count": 2,
   "id": "a3694847",
   "metadata": {},
   "outputs": [
    {
     "name": "stdout",
     "output_type": "stream",
     "text": [
      "T-Scores:\n",
      "('test', 'test') -1.0\n"
     ]
    },
    {
     "ename": "ZeroDivisionError",
     "evalue": "float division by zero",
     "output_type": "error",
     "traceback": [
      "\u001b[1;31m---------------------------------------------------------------------------\u001b[0m",
      "\u001b[1;31mZeroDivisionError\u001b[0m                         Traceback (most recent call last)",
      "\u001b[1;32m<ipython-input-2-a7f57e900ce7>\u001b[0m in \u001b[0;36m<module>\u001b[1;34m\u001b[0m\n\u001b[0;32m     16\u001b[0m     \u001b[0mprint\u001b[0m\u001b[1;33m(\u001b[0m\u001b[0mbigram\u001b[0m\u001b[1;33m,\u001b[0m \u001b[0mscore\u001b[0m\u001b[1;33m)\u001b[0m\u001b[1;33m\u001b[0m\u001b[1;33m\u001b[0m\u001b[0m\n\u001b[0;32m     17\u001b[0m \u001b[1;33m\u001b[0m\u001b[0m\n\u001b[1;32m---> 18\u001b[1;33m \u001b[0mchi_scored\u001b[0m \u001b[1;33m=\u001b[0m \u001b[0mfinder\u001b[0m\u001b[1;33m.\u001b[0m\u001b[0mscore_ngrams\u001b[0m\u001b[1;33m(\u001b[0m\u001b[0mBigramAssocMeasures\u001b[0m\u001b[1;33m.\u001b[0m\u001b[0mchi_sq\u001b[0m\u001b[1;33m)\u001b[0m\u001b[1;33m\u001b[0m\u001b[1;33m\u001b[0m\u001b[0m\n\u001b[0m\u001b[0;32m     19\u001b[0m \u001b[0mprint\u001b[0m\u001b[1;33m(\u001b[0m\u001b[1;34m\"\\nChi-Square Scores:\"\u001b[0m\u001b[1;33m)\u001b[0m\u001b[1;33m\u001b[0m\u001b[1;33m\u001b[0m\u001b[0m\n\u001b[0;32m     20\u001b[0m \u001b[1;32mfor\u001b[0m \u001b[0mbigram\u001b[0m\u001b[1;33m,\u001b[0m \u001b[0mscore\u001b[0m \u001b[1;32min\u001b[0m \u001b[0mchi_scored\u001b[0m\u001b[1;33m:\u001b[0m\u001b[1;33m\u001b[0m\u001b[1;33m\u001b[0m\u001b[0m\n",
      "\u001b[1;32m~\\anaconda3\\lib\\site-packages\\nltk\\collocations.py\u001b[0m in \u001b[0;36mscore_ngrams\u001b[1;34m(self, score_fn)\u001b[0m\n\u001b[0;32m    132\u001b[0m         \u001b[0mlowest\u001b[0m \u001b[0mscore\u001b[0m\u001b[1;33m,\u001b[0m \u001b[1;32mas\u001b[0m \u001b[0mdetermined\u001b[0m \u001b[0mby\u001b[0m \u001b[0mthe\u001b[0m \u001b[0mscoring\u001b[0m \u001b[0mfunction\u001b[0m \u001b[0mprovided\u001b[0m\u001b[1;33m.\u001b[0m\u001b[1;33m\u001b[0m\u001b[1;33m\u001b[0m\u001b[0m\n\u001b[0;32m    133\u001b[0m         \"\"\"\n\u001b[1;32m--> 134\u001b[1;33m         \u001b[1;32mreturn\u001b[0m \u001b[0msorted\u001b[0m\u001b[1;33m(\u001b[0m\u001b[0mself\u001b[0m\u001b[1;33m.\u001b[0m\u001b[0m_score_ngrams\u001b[0m\u001b[1;33m(\u001b[0m\u001b[0mscore_fn\u001b[0m\u001b[1;33m)\u001b[0m\u001b[1;33m,\u001b[0m \u001b[0mkey\u001b[0m\u001b[1;33m=\u001b[0m\u001b[1;32mlambda\u001b[0m \u001b[0mt\u001b[0m\u001b[1;33m:\u001b[0m \u001b[1;33m(\u001b[0m\u001b[1;33m-\u001b[0m\u001b[0mt\u001b[0m\u001b[1;33m[\u001b[0m\u001b[1;36m1\u001b[0m\u001b[1;33m]\u001b[0m\u001b[1;33m,\u001b[0m \u001b[0mt\u001b[0m\u001b[1;33m[\u001b[0m\u001b[1;36m0\u001b[0m\u001b[1;33m]\u001b[0m\u001b[1;33m)\u001b[0m\u001b[1;33m)\u001b[0m\u001b[1;33m\u001b[0m\u001b[1;33m\u001b[0m\u001b[0m\n\u001b[0m\u001b[0;32m    135\u001b[0m \u001b[1;33m\u001b[0m\u001b[0m\n\u001b[0;32m    136\u001b[0m     \u001b[1;32mdef\u001b[0m \u001b[0mnbest\u001b[0m\u001b[1;33m(\u001b[0m\u001b[0mself\u001b[0m\u001b[1;33m,\u001b[0m \u001b[0mscore_fn\u001b[0m\u001b[1;33m,\u001b[0m \u001b[0mn\u001b[0m\u001b[1;33m)\u001b[0m\u001b[1;33m:\u001b[0m\u001b[1;33m\u001b[0m\u001b[1;33m\u001b[0m\u001b[0m\n",
      "\u001b[1;32m~\\anaconda3\\lib\\site-packages\\nltk\\collocations.py\u001b[0m in \u001b[0;36m_score_ngrams\u001b[1;34m(self, score_fn)\u001b[0m\n\u001b[0;32m    124\u001b[0m         \"\"\"\n\u001b[0;32m    125\u001b[0m         \u001b[1;32mfor\u001b[0m \u001b[0mtup\u001b[0m \u001b[1;32min\u001b[0m \u001b[0mself\u001b[0m\u001b[1;33m.\u001b[0m\u001b[0mngram_fd\u001b[0m\u001b[1;33m:\u001b[0m\u001b[1;33m\u001b[0m\u001b[1;33m\u001b[0m\u001b[0m\n\u001b[1;32m--> 126\u001b[1;33m             \u001b[0mscore\u001b[0m \u001b[1;33m=\u001b[0m \u001b[0mself\u001b[0m\u001b[1;33m.\u001b[0m\u001b[0mscore_ngram\u001b[0m\u001b[1;33m(\u001b[0m\u001b[0mscore_fn\u001b[0m\u001b[1;33m,\u001b[0m \u001b[1;33m*\u001b[0m\u001b[0mtup\u001b[0m\u001b[1;33m)\u001b[0m\u001b[1;33m\u001b[0m\u001b[1;33m\u001b[0m\u001b[0m\n\u001b[0m\u001b[0;32m    127\u001b[0m             \u001b[1;32mif\u001b[0m \u001b[0mscore\u001b[0m \u001b[1;32mis\u001b[0m \u001b[1;32mnot\u001b[0m \u001b[1;32mNone\u001b[0m\u001b[1;33m:\u001b[0m\u001b[1;33m\u001b[0m\u001b[1;33m\u001b[0m\u001b[0m\n\u001b[0;32m    128\u001b[0m                 \u001b[1;32myield\u001b[0m \u001b[0mtup\u001b[0m\u001b[1;33m,\u001b[0m \u001b[0mscore\u001b[0m\u001b[1;33m\u001b[0m\u001b[1;33m\u001b[0m\u001b[0m\n",
      "\u001b[1;32m~\\anaconda3\\lib\\site-packages\\nltk\\collocations.py\u001b[0m in \u001b[0;36mscore_ngram\u001b[1;34m(self, score_fn, w1, w2)\u001b[0m\n\u001b[0;32m    197\u001b[0m         \u001b[0mn_ix\u001b[0m \u001b[1;33m=\u001b[0m \u001b[0mself\u001b[0m\u001b[1;33m.\u001b[0m\u001b[0mword_fd\u001b[0m\u001b[1;33m[\u001b[0m\u001b[0mw1\u001b[0m\u001b[1;33m]\u001b[0m\u001b[1;33m\u001b[0m\u001b[1;33m\u001b[0m\u001b[0m\n\u001b[0;32m    198\u001b[0m         \u001b[0mn_xi\u001b[0m \u001b[1;33m=\u001b[0m \u001b[0mself\u001b[0m\u001b[1;33m.\u001b[0m\u001b[0mword_fd\u001b[0m\u001b[1;33m[\u001b[0m\u001b[0mw2\u001b[0m\u001b[1;33m]\u001b[0m\u001b[1;33m\u001b[0m\u001b[1;33m\u001b[0m\u001b[0m\n\u001b[1;32m--> 199\u001b[1;33m         \u001b[1;32mreturn\u001b[0m \u001b[0mscore_fn\u001b[0m\u001b[1;33m(\u001b[0m\u001b[0mn_ii\u001b[0m\u001b[1;33m,\u001b[0m \u001b[1;33m(\u001b[0m\u001b[0mn_ix\u001b[0m\u001b[1;33m,\u001b[0m \u001b[0mn_xi\u001b[0m\u001b[1;33m)\u001b[0m\u001b[1;33m,\u001b[0m \u001b[0mn_all\u001b[0m\u001b[1;33m)\u001b[0m\u001b[1;33m\u001b[0m\u001b[1;33m\u001b[0m\u001b[0m\n\u001b[0m\u001b[0;32m    200\u001b[0m \u001b[1;33m\u001b[0m\u001b[0m\n\u001b[0;32m    201\u001b[0m \u001b[1;33m\u001b[0m\u001b[0m\n",
      "\u001b[1;32m~\\anaconda3\\lib\\site-packages\\nltk\\metrics\\association.py\u001b[0m in \u001b[0;36mchi_sq\u001b[1;34m(cls, n_ii, n_ix_xi_tuple, n_xx)\u001b[0m\n\u001b[0;32m    232\u001b[0m         \"\"\"\n\u001b[0;32m    233\u001b[0m         \u001b[1;33m(\u001b[0m\u001b[0mn_ix\u001b[0m\u001b[1;33m,\u001b[0m \u001b[0mn_xi\u001b[0m\u001b[1;33m)\u001b[0m \u001b[1;33m=\u001b[0m \u001b[0mn_ix_xi_tuple\u001b[0m\u001b[1;33m\u001b[0m\u001b[1;33m\u001b[0m\u001b[0m\n\u001b[1;32m--> 234\u001b[1;33m         \u001b[1;32mreturn\u001b[0m \u001b[0mn_xx\u001b[0m \u001b[1;33m*\u001b[0m \u001b[0mcls\u001b[0m\u001b[1;33m.\u001b[0m\u001b[0mphi_sq\u001b[0m\u001b[1;33m(\u001b[0m\u001b[0mn_ii\u001b[0m\u001b[1;33m,\u001b[0m \u001b[1;33m(\u001b[0m\u001b[0mn_ix\u001b[0m\u001b[1;33m,\u001b[0m \u001b[0mn_xi\u001b[0m\u001b[1;33m)\u001b[0m\u001b[1;33m,\u001b[0m \u001b[0mn_xx\u001b[0m\u001b[1;33m)\u001b[0m\u001b[1;33m\u001b[0m\u001b[1;33m\u001b[0m\u001b[0m\n\u001b[0m\u001b[0;32m    235\u001b[0m \u001b[1;33m\u001b[0m\u001b[0m\n\u001b[0;32m    236\u001b[0m     \u001b[1;33m@\u001b[0m\u001b[0mclassmethod\u001b[0m\u001b[1;33m\u001b[0m\u001b[1;33m\u001b[0m\u001b[0m\n",
      "\u001b[1;32m~\\anaconda3\\lib\\site-packages\\nltk\\metrics\\association.py\u001b[0m in \u001b[0;36mphi_sq\u001b[1;34m(cls, *marginals)\u001b[0m\n\u001b[0;32m    222\u001b[0m         \u001b[0mn_ii\u001b[0m\u001b[1;33m,\u001b[0m \u001b[0mn_io\u001b[0m\u001b[1;33m,\u001b[0m \u001b[0mn_oi\u001b[0m\u001b[1;33m,\u001b[0m \u001b[0mn_oo\u001b[0m \u001b[1;33m=\u001b[0m \u001b[0mcls\u001b[0m\u001b[1;33m.\u001b[0m\u001b[0m_contingency\u001b[0m\u001b[1;33m(\u001b[0m\u001b[1;33m*\u001b[0m\u001b[0mmarginals\u001b[0m\u001b[1;33m)\u001b[0m\u001b[1;33m\u001b[0m\u001b[1;33m\u001b[0m\u001b[0m\n\u001b[0;32m    223\u001b[0m \u001b[1;33m\u001b[0m\u001b[0m\n\u001b[1;32m--> 224\u001b[1;33m         return (n_ii * n_oo - n_io * n_oi) ** 2 / (\n\u001b[0m\u001b[0;32m    225\u001b[0m             \u001b[1;33m(\u001b[0m\u001b[0mn_ii\u001b[0m \u001b[1;33m+\u001b[0m \u001b[0mn_io\u001b[0m\u001b[1;33m)\u001b[0m \u001b[1;33m*\u001b[0m \u001b[1;33m(\u001b[0m\u001b[0mn_ii\u001b[0m \u001b[1;33m+\u001b[0m \u001b[0mn_oi\u001b[0m\u001b[1;33m)\u001b[0m \u001b[1;33m*\u001b[0m \u001b[1;33m(\u001b[0m\u001b[0mn_io\u001b[0m \u001b[1;33m+\u001b[0m \u001b[0mn_oo\u001b[0m\u001b[1;33m)\u001b[0m \u001b[1;33m*\u001b[0m \u001b[1;33m(\u001b[0m\u001b[0mn_oi\u001b[0m \u001b[1;33m+\u001b[0m \u001b[0mn_oo\u001b[0m\u001b[1;33m)\u001b[0m\u001b[1;33m\u001b[0m\u001b[1;33m\u001b[0m\u001b[0m\n\u001b[0;32m    226\u001b[0m         )\n",
      "\u001b[1;31mZeroDivisionError\u001b[0m: float division by zero"
     ]
    }
   ],
   "source": [
    "import nltk\n",
    "from nltk.collocations import BigramAssocMeasures, BigramCollocationFinder\n",
    "from nltk.metrics import BigramAssocMeasures\n",
    "\n",
    "text = \"test test\"\n",
    "\n",
    "# Tokenize\n",
    "words = nltk.word_tokenize(text)\n",
    "\n",
    "bigram_measures = BigramAssocMeasures()\n",
    "finder = BigramCollocationFinder.from_words(words)\n",
    "\n",
    "t_scored = finder.score_ngrams(bigram_measures.student_t)\n",
    "print(\"T-Scores:\")\n",
    "for bigram, score in t_scored:\n",
    "    print(bigram, score)\n",
    "\n",
    "chi_scored = finder.score_ngrams(BigramAssocMeasures.chi_sq)\n",
    "print(\"\\nChi-Square Scores:\")\n",
    "for bigram, score in chi_scored:\n",
    "    print(bigram, score)"
   ]
  },
  {
   "cell_type": "code",
   "execution_count": 4,
   "id": "c21cca7b",
   "metadata": {},
   "outputs": [
    {
     "name": "stdout",
     "output_type": "stream",
     "text": [
      "['After', 'graduating', 'of', 'a', 'Madras', 'Institute', 'of', 'Technology', 'in', '1960', 'Kalam', 'of', 'a', 'Aeronautical', 'Development', 'Establishment', 'of', 'the', 'Defence', 'Research', 'and', 'Development', 'Organisation', 'by', 'Press', 'Information', 'Bureau', 'Government', 'of', 'India', 'as', 'a', 'scientist', 'after', 'becoming', 'a', 'member', 'of', 'the', 'Defence', 'Research', 'Development', 'Service', 'DRDS', 'He', 'started', 'his', 'career', 'by', 'designing', 'a', 'small', 'hovercraft', 'but', 'remained', 'unconvinced', 'by', 'his', 'choice', 'of', 'a', 'job', 'at', 'DRDOalam', 'was', 'invited', 'by', 'Raja', 'Ramanna', 'to', 'witness', 'the', 'countrys', 'first', 'nuclear', 'test', 'Smiling', 'Buddha', 'as', 'the', 'representative', 'of', 'TBRL', 'even', 'though', 'he', 'had', 'not', 'participated', 'in', 'its', 'development', 'In', 'the', '1970s', 'Kalam', 'also', 'directed', 'two', 'projects', 'Project', 'Devil', 'and', 'Project', 'Valiant', 'which', 'sought', 'to', 'develop', 'ballistic', 'missiles', 'from', 'the', 'technology', 'of', 'the', 'successful', 'SLV', 'programme']\n"
     ]
    }
   ],
   "source": [
    "import re\n",
    "import nltk\n",
    "from nltk.tokenize import TreebankWordTokenizer\n",
    "f=open(\"nlp.txt\",'r')\n",
    "tk=TreebankWordTokenizer()\n",
    "new_string=re.sub(r'[^\\w\\s]','',f.read())\n",
    "val=tk.tokenize(new_string)\n",
    "print(val)"
   ]
  },
  {
   "cell_type": "code",
   "execution_count": 6,
   "id": "09a7c376",
   "metadata": {},
   "outputs": [
    {
     "name": "stdout",
     "output_type": "stream",
     "text": [
      "Sample Mean: 0.17391304347826086\n",
      "Sample Variance: 12\n",
      "T-Statistic: 10.725832287560234\n",
      "Degrees of Freedom: 68\n",
      "Chi-Square: 445.4736842105263\n"
     ]
    }
   ],
   "source": [
    "import nltk\n",
    "from nltk.collocations import BigramAssocMeasures, BigramCollocationFinder\n",
    "from nltk.corpus import PlaintextCorpusReader\n",
    "from math import sqrt\n",
    "\n",
    "stopwords = set(nltk.corpus.stopwords.words('english'))\n",
    "\n",
    "# Read text from nlp.txt\n",
    "corpus_root = './'  # Change this to the path where your nlp.txt is located\n",
    "file_pattern = r'.*\\.txt'\n",
    "corpus = PlaintextCorpusReader(corpus_root, file_pattern)\n",
    "text = corpus.raw('nlp.txt')\n",
    "\n",
    "# Tokenize words\n",
    "words = nltk.word_tokenize(text)\n",
    "\n",
    "# Remove stopwords and punctuation\n",
    "filtered_words = [word.lower() for word in words if word.isalnum() and word.lower() not in stopwords]\n",
    "\n",
    "# Calculate bigram collocations\n",
    "finder = BigramCollocationFinder.from_words(filtered_words)\n",
    "bigram_measures = BigramAssocMeasures()\n",
    "collocations = finder.nbest(bigram_measures.likelihood_ratio, 10)\n",
    "\n",
    "# Calculate t-Statistic manually\n",
    "observed_freq = finder.word_fd.N()\n",
    "collocation_freq = sum(finder.ngram_fd[collocation] for collocation in collocations)\n",
    "expected_freq = collocation_freq / observed_freq\n",
    "t_statistic = (finder.ngram_fd[collocations[0]] - expected_freq) / (finder.ngram_fd[collocations[0]] / observed_freq) ** 0.5\n",
    "\n",
    "# Calculate Chi-Square manually\n",
    "chi_square = (observed_freq * (finder.ngram_fd[collocations[0]] * finder.ngram_fd[collocations[1]] - collocation_freq)) ** 2 / (collocation_freq * (observed_freq - collocation_freq))\n",
    "\n",
    "# Calculate degrees of freedom\n",
    "degrees_of_freedom = observed_freq - 1\n",
    "\n",
    "# Display results\n",
    "print(\"Sample Mean:\", expected_freq)\n",
    "print(\"Sample Variance:\", collocation_freq)\n",
    "print(\"T-Statistic:\", t_statistic)\n",
    "print(\"Degrees of Freedom:\", degrees_of_freedom)\n",
    "print(\"Chi-Square:\", chi_square)\n"
   ]
  },
  {
   "cell_type": "code",
   "execution_count": null,
   "id": "7a7384d5",
   "metadata": {},
   "outputs": [],
   "source": []
  }
 ],
 "metadata": {
  "kernelspec": {
   "display_name": "Python 3",
   "language": "python",
   "name": "python3"
  },
  "language_info": {
   "codemirror_mode": {
    "name": "ipython",
    "version": 3
   },
   "file_extension": ".py",
   "mimetype": "text/x-python",
   "name": "python",
   "nbconvert_exporter": "python",
   "pygments_lexer": "ipython3",
   "version": "3.8.8"
  }
 },
 "nbformat": 4,
 "nbformat_minor": 5
}
