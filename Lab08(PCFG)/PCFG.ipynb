{
 "cells": [
  {
   "cell_type": "markdown",
   "metadata": {
    "id": "hwHembMnuehB"
   },
   "source": [
    "## PCFG\n",
    "\n",
    "Implement the Probabilistic Context Free Grammar (PCFG) and find the inside probability of a word sequence using the CYK algorithm."
   ]
  },
  {
   "cell_type": "code",
   "execution_count": null,
   "metadata": {
    "colab": {
     "base_uri": "https://localhost:8080/"
    },
    "id": "fkukKpNbr9Fw",
    "outputId": "852fd759-7ec2-4dd4-c1fa-9db808e40805"
   },
   "outputs": [
    {
     "name": "stdout",
     "output_type": "stream",
     "text": [
      "Inside probability of S: 21.400000000000002\n",
      "Inside probability of NP: 18.479999999999997\n",
      "Inside probability of VP: 17.120000000000005\n",
      "Inside probability of Det: 0.0\n",
      "Inside probability of N: 0.0\n",
      "Inside probability of V: 0.0\n",
      "Total inside probability: 21.400000000000002\n"
     ]
    }
   ],
   "source": [
    "from collections import defaultdict\n",
    "from itertools import product\n",
    "\n",
    "def cyk_algorithm(words, pcfg_rules):\n",
    "    n = len(words)\n",
    "    table = [[defaultdict(float) for _ in range(n)] for _ in range(n)]\n",
    "\n",
    "    # Initialization\n",
    "    for i, word in enumerate(words):\n",
    "        for nt, (prob, terminals) in pcfg_rules.items():\n",
    "            if word in terminals:\n",
    "                table[i][i][nt] = prob\n",
    "\n",
    "    # CYK Algorithm\n",
    "    for length in range(2, n + 1):\n",
    "        for i in range(n - length + 1):\n",
    "            j = i + length - 1\n",
    "            for k in range(i, j):\n",
    "                for A, (prob_A, _) in pcfg_rules.items():\n",
    "                    for B, (prob_B, _) in pcfg_rules.items():\n",
    "                        for C in table[i][k]:\n",
    "                            for D in table[k + 1][j]:\n",
    "                                prob = prob_A * prob_B * pcfg_rules[A][1].count(C) * pcfg_rules[B][1].count(D)\n",
    "                                table[i][j][A] += prob\n",
    "\n",
    "    return table\n",
    "\n",
    "# Example PCFG rules (non-terminal -> (probability, [productions]))\n",
    "pcfg_rules = {\n",
    "    'S': (1.0, ['NP', 'VP']),\n",
    "    'NP': (0.7, ['Det', 'N']),\n",
    "    'VP': (0.8, ['V', 'NP']),\n",
    "    'Det': (1.0, ['the']),\n",
    "    'N': (0.6, ['cat', 'dog']),\n",
    "    'V': (0.9, ['chased'])\n",
    "}\n",
    "\n",
    "# Example input sentence\n",
    "words = ['the', 'cat', 'chased', 'the', 'dog']\n",
    "\n",
    "# Call CYK algorithm to get inside probabilities\n",
    "table = cyk_algorithm(words, pcfg_rules)\n",
    "\n",
    "# Inside probabilities for non-terminals in the top cell of the table\n",
    "inside_probabilities = table[0][-1]\n",
    "\n",
    "# Print inside probabilities\n",
    "for nt, prob in inside_probabilities.items():\n",
    "    print(f'Inside probability of {nt}: {prob}')\n",
    "\n",
    "# Total inside probability (probability of the whole sentence)\n",
    "total_probability = inside_probabilities['S']\n",
    "print(f'Total inside probability: {total_probability}')\n"
   ]
  },
  {
   "cell_type": "code",
   "execution_count": 2,
   "metadata": {
    "colab": {
     "base_uri": "https://localhost:8080/"
    },
    "id": "BXiMT63eyUU1",
    "outputId": "9eca3bc3-303f-44ed-e836-e03789e9e1c0"
   },
   "outputs": [
    {
     "name": "stdout",
     "output_type": "stream",
     "text": [
      "Inside probability of S: 21.400000000000002\n",
      "Inside probability of NP: 18.479999999999997\n",
      "Inside probability of VP: 17.120000000000005\n",
      "Inside probability of Det: 0.0\n",
      "Inside probability of N: 0.0\n",
      "Inside probability of V: 0.0\n",
      "Total inside probability: 21.400000000000002\n"
     ]
    }
   ],
   "source": [
    "from collections import defaultdict\n",
    "from itertools import product\n",
    "\n",
    "def cyk_algorithm(words, pcfg_rules):\n",
    "    n = len(words)\n",
    "    table = [[defaultdict(float) for _ in range(n)] for _ in range(n)]\n",
    "\n",
    "    # Initialization\n",
    "    for i, word in enumerate(words):\n",
    "        for nt, (prob, terminals) in pcfg_rules.items():\n",
    "            if word in terminals:\n",
    "                table[i][i][nt] = prob\n",
    "\n",
    "    # CYK Algorithm\n",
    "    for length in range(2, n + 1):\n",
    "        for i in range(n - length + 1):\n",
    "            j = i + length - 1\n",
    "            for k in range(i, j):\n",
    "                for A, (prob_A, _) in pcfg_rules.items():\n",
    "                    for B, (prob_B, _) in pcfg_rules.items():\n",
    "                        for C in table[i][k]:\n",
    "                            for D in table[k + 1][j]:\n",
    "                                prob = prob_A * prob_B * pcfg_rules[A][1].count(C) * pcfg_rules[B][1].count(D)\n",
    "                                table[i][j][A] += prob\n",
    "\n",
    "    return table\n",
    "\n",
    "# Example PCFG rules (non-terminal -> (probability, [productions]))\n",
    "pcfg_rules = {\n",
    "    'S': (1.0, ['NP', 'VP']),\n",
    "    'NP': (0.7, ['Det', 'N']),\n",
    "    'VP': (0.8, ['V', 'NP']),\n",
    "    'Det': (1.0, ['the']),\n",
    "    'N': (0.6, ['cat', 'dog']),\n",
    "    'V': (0.9, ['chased'])\n",
    "}\n",
    "\n",
    "# New input sentence\n",
    "words = ['the', 'dog', 'chased', 'the', 'cat']\n",
    "\n",
    "# Call CYK algorithm to get inside probabilities\n",
    "table = cyk_algorithm(words, pcfg_rules)\n",
    "\n",
    "# Inside probabilities for non-terminals in the top cell of the table\n",
    "inside_probabilities = table[0][-1]\n",
    "\n",
    "# Print inside probabilities\n",
    "for nt, prob in inside_probabilities.items():\n",
    "    print(f'Inside probability of {nt}: {prob}')\n",
    "\n",
    "# Total inside probability (probability of the whole sentence)\n",
    "total_probability = inside_probabilities['S']\n",
    "print(f'Total inside probability: {total_probability}')\n"
   ]
  },
  {
   "cell_type": "code",
   "execution_count": 3,
   "metadata": {
    "colab": {
     "base_uri": "https://localhost:8080/"
    },
    "id": "ORafeKQsyX08",
    "outputId": "a1f34a3a-ad0d-480e-c0b6-49e2fb46ae80"
   },
   "outputs": [
    {
     "name": "stdout",
     "output_type": "stream",
     "text": [
      "Inside probability of S: 19.599999999999998\n",
      "Inside probability of NP: 14.519999999999996\n",
      "Inside probability of VP: 13.72\n",
      "Inside probability of Det: 0.0\n",
      "Inside probability of N: 0.0\n",
      "Inside probability of V: 0.0\n",
      "Total inside probability: 19.599999999999998\n"
     ]
    }
   ],
   "source": [
    "from collections import defaultdict\n",
    "from itertools import product\n",
    "\n",
    "def cyk_algorithm(words, pcfg_rules):\n",
    "    n = len(words)\n",
    "    table = [[defaultdict(float) for _ in range(n)] for _ in range(n)]\n",
    "\n",
    "    # Initialization\n",
    "    for i, word in enumerate(words):\n",
    "        for nt, (prob, terminals) in pcfg_rules.items():\n",
    "            if word in terminals:\n",
    "                table[i][i][nt] = prob\n",
    "\n",
    "    # CYK Algorithm\n",
    "    for length in range(2, n + 1):\n",
    "        for i in range(n - length + 1):\n",
    "            j = i + length - 1\n",
    "            for k in range(i, j):\n",
    "                for A, (prob_A, _) in pcfg_rules.items():\n",
    "                    for B, (prob_B, _) in pcfg_rules.items():\n",
    "                        for C in table[i][k]:\n",
    "                            for D in table[k + 1][j]:\n",
    "                                prob = prob_A * prob_B * pcfg_rules[A][1].count(C) * pcfg_rules[B][1].count(D)\n",
    "                                table[i][j][A] += prob\n",
    "\n",
    "    return table\n",
    "\n",
    "# Different PCFG rules\n",
    "pcfg_rules = {\n",
    "    'S': (1.0, ['NP', 'VP']),\n",
    "    'NP': (0.6, ['Det', 'N']),\n",
    "    'VP': (0.7, ['V', 'NP']),\n",
    "    'Det': (1.0, ['the', 'a']),\n",
    "    'N': (0.5, ['cat', 'dog', 'bat']),\n",
    "    'V': (0.8, ['chased', 'caught'])\n",
    "}\n",
    "\n",
    "# Different input sentence\n",
    "words = ['the', 'cat', 'chased', 'a', 'bat']\n",
    "\n",
    "# Call CYK algorithm to get inside probabilities\n",
    "table = cyk_algorithm(words, pcfg_rules)\n",
    "\n",
    "# Inside probabilities for non-terminals in the top cell of the table\n",
    "inside_probabilities = table[0][-1]\n",
    "\n",
    "# Print inside probabilities\n",
    "for nt, prob in inside_probabilities.items():\n",
    "    print(f'Inside probability of {nt}: {prob}')\n",
    "\n",
    "# Total inside probability (probability of the whole sentence)\n",
    "total_probability = inside_probabilities['S']\n",
    "print(f'Total inside probability: {total_probability}')\n"
   ]
  }
 ],
 "metadata": {
  "colab": {
   "provenance": []
  },
  "kernelspec": {
   "display_name": "Python 3 (ipykernel)",
   "language": "python",
   "name": "python3"
  },
  "language_info": {
   "codemirror_mode": {
    "name": "ipython",
    "version": 3
   },
   "file_extension": ".py",
   "mimetype": "text/x-python",
   "name": "python",
   "nbconvert_exporter": "python",
   "pygments_lexer": "ipython3",
   "version": "3.10.12"
  }
 },
 "nbformat": 4,
 "nbformat_minor": 4
}
