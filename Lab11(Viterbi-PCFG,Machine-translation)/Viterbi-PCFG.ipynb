{
 "cells": [
  {
   "cell_type": "code",
   "execution_count": 3,
   "id": "9169418e-d21e-44c3-9765-d0406635ac5c",
   "metadata": {
    "tags": []
   },
   "outputs": [
    {
     "name": "stdout",
     "output_type": "stream",
     "text": [
      "Most Probable Parse Tree: ('S', ('NP', ('Det', 'the'), ('N', 'cat')), ('NP', ('Det', 'chased'), ('N', 'bat')))\n",
      "Parse Probability: 1.0\n"
     ]
    }
   ],
   "source": [
    "from collections import defaultdict\n",
    "\n",
    "def viterbi_pcfg(words, pcfg_rules):\n",
    "    n = len(words)\n",
    "    table = [[defaultdict(lambda: (0.0, None)) for _ in range(n)] for _ in range(n)]\n",
    "\n",
    "    # Initialization\n",
    "    for i, word in enumerate(words):\n",
    "        for nt, (prob, terminals) in pcfg_rules.items():\n",
    "            if word in terminals:\n",
    "                table[i][i][nt] = (prob, None)\n",
    "\n",
    "    # Viterbi Algorithm\n",
    "    for length in range(2, n + 1):\n",
    "        for i in range(n - length + 1):\n",
    "            j = i + length - 1\n",
    "            for k in range(i, j):\n",
    "                for A, (prob_A, _) in pcfg_rules.items():\n",
    "                    for B, (prob_B, _) in pcfg_rules.items():\n",
    "                        for C in table[i][k]:\n",
    "                            for D in table[k + 1][j]:\n",
    "                                prob = prob_A * prob_B * pcfg_rules[A][1].count(C) * pcfg_rules[B][1].count(D)\n",
    "                                if prob > table[i][j][A][0]:\n",
    "                                    table[i][j][A] = (prob, (C, D, k))\n",
    "\n",
    "    # Reconstruct the most probable parse tree\n",
    "    def reconstruct_tree(i, j, nt):\n",
    "        if table[i][j][nt][1] is None:\n",
    "            return (nt, words[i])\n",
    "        else:\n",
    "            C, D, k = table[i][j][nt][1]\n",
    "            left_subtree = reconstruct_tree(i, k, C)\n",
    "            right_subtree = reconstruct_tree(k + 1, j, D)\n",
    "            return (nt, left_subtree, right_subtree)\n",
    "\n",
    "    # Get the most probable parse tree and its probability\n",
    "    parse_tree = reconstruct_tree(0, n - 1, 'S')\n",
    "    parse_probability = table[0][-1]['S'][0]\n",
    "\n",
    "    return parse_tree, parse_probability\n",
    "\n",
    "# Different PCFG rules\n",
    "pcfg_rules = {\n",
    "    'S': (1.0, ['NP', 'VP']),\n",
    "    'NP': (0.6, ['Det', 'N']),\n",
    "    'VP': (0.7, ['V', 'NP']),\n",
    "    'Det': (1.0, ['the', 'a']),\n",
    "    'N': (0.5, ['cat', 'dog', 'bat']),\n",
    "    'V': (0.8, ['chased', 'caught'])\n",
    "}\n",
    "\n",
    "# Different input sentence\n",
    "words = ['the', 'cat', 'chased', 'a', 'bat']\n",
    "\n",
    "# Call Viterbi PCFG algorithm to get the most probable parse tree and its probability\n",
    "parse_tree, parse_probability = viterbi_pcfg(words, pcfg_rules)\n",
    "\n",
    "# Print the most probable parse tree and its probability\n",
    "print(f'Most Probable Parse Tree: {parse_tree}')\n",
    "print(f'Parse Probability: {parse_probability}')\n"
   ]
  }
 ],
 "metadata": {
  "kernelspec": {
   "display_name": "Python 3 (ipykernel)",
   "language": "python",
   "name": "python3"
  },
  "language_info": {
   "codemirror_mode": {
    "name": "ipython",
    "version": 3
   },
   "file_extension": ".py",
   "mimetype": "text/x-python",
   "name": "python",
   "nbconvert_exporter": "python",
   "pygments_lexer": "ipython3",
   "version": "3.10.12"
  }
 },
 "nbformat": 4,
 "nbformat_minor": 5
}
