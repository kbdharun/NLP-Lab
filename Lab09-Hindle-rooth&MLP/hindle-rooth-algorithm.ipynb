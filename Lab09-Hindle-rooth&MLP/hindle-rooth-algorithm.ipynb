{
 "cells": [
  {
   "cell_type": "code",
   "execution_count": 3,
   "id": "f17c8018-e2ee-4bf7-b23f-4a53a92ee617",
   "metadata": {
    "tags": []
   },
   "outputs": [
    {
     "name": "stdin",
     "output_type": "stream",
     "text": [
      "Enter verb:  end\n",
      "Enter noun:  venture\n",
      "Enter preposition:  with\n",
      "Times verb occurs:  5156\n",
      "Times verb occurs with pp:  607\n",
      "Times noun occurs:  1442\n",
      "Times noun occurs with pp:  155\n"
     ]
    },
    {
     "name": "stdout",
     "output_type": "stream",
     "text": [
      "Noun\n"
     ]
    }
   ],
   "source": [
    "import math as m\n",
    "v=input(\"Enter verb: \")\n",
    "n=input(\"Enter noun: \")\n",
    "pp=input(\"Enter preposition: \")\n",
    "v_num=int(input(\"Times verb occurs: \"))\n",
    "vpp_num=int(input(\"Times verb occurs with pp: \"))\n",
    "n_num=int(input(\"Times noun occurs: \"))\n",
    "npp_num=int(input(\"Times noun occurs with pp: \"))\n",
    "v_a=vpp_num/v_num\n",
    "n_a=npp_num/n_num\n",
    "n_na=1-n_a\n",
    "res=(v_a*n_na)/n_a\n",
    "res=m.log2(res)\n",
    "if res>0:\n",
    "    print(\"Verb\")\n",
    "else:\n",
    "    print(\"Noun\")"
   ]
  }
 ],
 "metadata": {
  "kernelspec": {
   "display_name": "Python 3 (ipykernel)",
   "language": "python",
   "name": "python3"
  },
  "language_info": {
   "codemirror_mode": {
    "name": "ipython",
    "version": 3
   },
   "file_extension": ".py",
   "mimetype": "text/x-python",
   "name": "python",
   "nbconvert_exporter": "python",
   "pygments_lexer": "ipython3",
   "version": "3.10.12"
  }
 },
 "nbformat": 4,
 "nbformat_minor": 5
}
