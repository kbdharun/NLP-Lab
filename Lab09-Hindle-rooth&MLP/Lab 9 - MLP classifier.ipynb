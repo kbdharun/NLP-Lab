{
 "cells": [
  {
   "cell_type": "code",
   "execution_count": 1,
   "id": "4ceaf650",
   "metadata": {},
   "outputs": [],
   "source": [
    "import pandas as pd\n",
    "import string"
   ]
  },
  {
   "cell_type": "code",
   "execution_count": 2,
   "id": "a62e40d9",
   "metadata": {},
   "outputs": [],
   "source": [
    "df = pd.read_csv('final_all_names_code.csv')"
   ]
  },
  {
   "cell_type": "code",
   "execution_count": 9,
   "id": "8966cbf3",
   "metadata": {},
   "outputs": [
    {
     "data": {
      "text/plain": [
       "(404062, 3)"
      ]
     },
     "execution_count": 9,
     "metadata": {},
     "output_type": "execute_result"
    }
   ],
   "source": [
    "df.shape"
   ]
  },
  {
   "cell_type": "code",
   "execution_count": 4,
   "id": "735515ae",
   "metadata": {},
   "outputs": [
    {
     "data": {
      "text/plain": [
       "78"
      ]
     },
     "execution_count": 4,
     "metadata": {},
     "output_type": "execute_result"
    }
   ],
   "source": [
    "len(df['Country_code'].unique())"
   ]
  },
  {
   "cell_type": "code",
   "execution_count": 5,
   "id": "dbe1031b",
   "metadata": {},
   "outputs": [],
   "source": [
    "columns=list(string.ascii_lowercase) + ['Country_code', 'Country']\n",
    "newdf = pd.DataFrame(columns=columns)"
   ]
  },
  {
   "cell_type": "code",
   "execution_count": 6,
   "id": "086a56f0",
   "metadata": {},
   "outputs": [
    {
     "data": {
      "text/html": [
       "<div>\n",
       "<style scoped>\n",
       "    .dataframe tbody tr th:only-of-type {\n",
       "        vertical-align: middle;\n",
       "    }\n",
       "\n",
       "    .dataframe tbody tr th {\n",
       "        vertical-align: top;\n",
       "    }\n",
       "\n",
       "    .dataframe thead th {\n",
       "        text-align: right;\n",
       "    }\n",
       "</style>\n",
       "<table border=\"1\" class=\"dataframe\">\n",
       "  <thead>\n",
       "    <tr style=\"text-align: right;\">\n",
       "      <th></th>\n",
       "      <th>a</th>\n",
       "      <th>b</th>\n",
       "      <th>c</th>\n",
       "      <th>d</th>\n",
       "      <th>e</th>\n",
       "      <th>f</th>\n",
       "      <th>g</th>\n",
       "      <th>h</th>\n",
       "      <th>i</th>\n",
       "      <th>j</th>\n",
       "      <th>...</th>\n",
       "      <th>s</th>\n",
       "      <th>t</th>\n",
       "      <th>u</th>\n",
       "      <th>v</th>\n",
       "      <th>w</th>\n",
       "      <th>x</th>\n",
       "      <th>y</th>\n",
       "      <th>z</th>\n",
       "      <th>Country_code</th>\n",
       "      <th>Country</th>\n",
       "    </tr>\n",
       "  </thead>\n",
       "  <tbody>\n",
       "    <tr>\n",
       "      <th>0</th>\n",
       "      <td>0</td>\n",
       "      <td>0</td>\n",
       "      <td>0</td>\n",
       "      <td>0</td>\n",
       "      <td>0</td>\n",
       "      <td>0</td>\n",
       "      <td>0</td>\n",
       "      <td>1</td>\n",
       "      <td>0</td>\n",
       "      <td>1</td>\n",
       "      <td>...</td>\n",
       "      <td>1</td>\n",
       "      <td>0</td>\n",
       "      <td>0</td>\n",
       "      <td>0</td>\n",
       "      <td>0</td>\n",
       "      <td>0</td>\n",
       "      <td>0</td>\n",
       "      <td>0</td>\n",
       "      <td>ar_AE</td>\n",
       "      <td>AE</td>\n",
       "    </tr>\n",
       "  </tbody>\n",
       "</table>\n",
       "<p>1 rows × 28 columns</p>\n",
       "</div>"
      ],
      "text/plain": [
       "   a  b  c  d  e  f  g  h  i  j  ...  s  t  u  v  w  x  y  z Country_code  \\\n",
       "0  0  0  0  0  0  0  0  1  0  1  ...  1  0  0  0  0  0  0  0        ar_AE   \n",
       "\n",
       "  Country  \n",
       "0      AE  \n",
       "\n",
       "[1 rows x 28 columns]"
      ]
     },
     "execution_count": 6,
     "metadata": {},
     "output_type": "execute_result"
    }
   ],
   "source": [
    "ind = 0\n",
    "name = df['Name'][ind]\n",
    "nameLst = str(name).split(' ')\n",
    "lastName = nameLst[-1].lower()\n",
    "chars = dict.fromkeys(columns, 0)\n",
    "for i in lastName:\n",
    "    chars[i] = 1\n",
    "chars['Country_code'] = df['Country_code'][ind]\n",
    "chars['Country'] = df['Country'][ind]\n",
    "newdf = newdf.append(chars, ignore_index=True)\n",
    "newdf.head()"
   ]
  },
  {
   "cell_type": "code",
   "execution_count": 13,
   "id": "0123b2ef",
   "metadata": {},
   "outputs": [],
   "source": [
    "for ind in range(1000):\n",
    "    name = df['Name'][ind]\n",
    "    nameLst = str(name).split(' ')\n",
    "    lastName = nameLst[-1].lower()\n",
    "    chars = dict.fromkeys(columns, 0)\n",
    "    for i in lastName:\n",
    "        chars[i] = 1\n",
    "    chars['Country_code'] = df['Country_code'][ind]\n",
    "    chars['Country'] = df['Country'][ind]\n",
    "    newdf = newdf.append(chars, ignore_index=True)\n",
    "    "
   ]
  },
  {
   "cell_type": "code",
   "execution_count": 42,
   "id": "0eecfb59",
   "metadata": {},
   "outputs": [
    {
     "data": {
      "text/plain": [
       "0        AE\n",
       "1        AE\n",
       "2        AE\n",
       "3        AE\n",
       "4        AE\n",
       "         ..\n",
       "10404    AE\n",
       "10405    AE\n",
       "10406    AE\n",
       "10407    AE\n",
       "10408    AE\n",
       "Name: Country, Length: 10409, dtype: object"
      ]
     },
     "execution_count": 42,
     "metadata": {},
     "output_type": "execute_result"
    }
   ],
   "source": [
    "newdf['Country']"
   ]
  },
  {
   "cell_type": "code",
   "execution_count": 14,
   "id": "48f9c747",
   "metadata": {},
   "outputs": [
    {
     "data": {
      "text/html": [
       "<div>\n",
       "<style scoped>\n",
       "    .dataframe tbody tr th:only-of-type {\n",
       "        vertical-align: middle;\n",
       "    }\n",
       "\n",
       "    .dataframe tbody tr th {\n",
       "        vertical-align: top;\n",
       "    }\n",
       "\n",
       "    .dataframe thead th {\n",
       "        text-align: right;\n",
       "    }\n",
       "</style>\n",
       "<table border=\"1\" class=\"dataframe\">\n",
       "  <thead>\n",
       "    <tr style=\"text-align: right;\">\n",
       "      <th></th>\n",
       "      <th>a</th>\n",
       "      <th>b</th>\n",
       "      <th>c</th>\n",
       "      <th>d</th>\n",
       "      <th>e</th>\n",
       "      <th>f</th>\n",
       "      <th>g</th>\n",
       "      <th>h</th>\n",
       "      <th>i</th>\n",
       "      <th>j</th>\n",
       "      <th>...</th>\n",
       "      <th>t</th>\n",
       "      <th>u</th>\n",
       "      <th>v</th>\n",
       "      <th>w</th>\n",
       "      <th>x</th>\n",
       "      <th>y</th>\n",
       "      <th>z</th>\n",
       "      <th>Country_code</th>\n",
       "      <th>Country</th>\n",
       "      <th>.</th>\n",
       "    </tr>\n",
       "  </thead>\n",
       "  <tbody>\n",
       "    <tr>\n",
       "      <th>0</th>\n",
       "      <td>0</td>\n",
       "      <td>0</td>\n",
       "      <td>0</td>\n",
       "      <td>0</td>\n",
       "      <td>0</td>\n",
       "      <td>0</td>\n",
       "      <td>0</td>\n",
       "      <td>1</td>\n",
       "      <td>0</td>\n",
       "      <td>1</td>\n",
       "      <td>...</td>\n",
       "      <td>0</td>\n",
       "      <td>0</td>\n",
       "      <td>0</td>\n",
       "      <td>0</td>\n",
       "      <td>0</td>\n",
       "      <td>0</td>\n",
       "      <td>0</td>\n",
       "      <td>ar_AE</td>\n",
       "      <td>AE</td>\n",
       "      <td>NaN</td>\n",
       "    </tr>\n",
       "    <tr>\n",
       "      <th>1</th>\n",
       "      <td>0</td>\n",
       "      <td>0</td>\n",
       "      <td>0</td>\n",
       "      <td>0</td>\n",
       "      <td>0</td>\n",
       "      <td>0</td>\n",
       "      <td>0</td>\n",
       "      <td>1</td>\n",
       "      <td>0</td>\n",
       "      <td>1</td>\n",
       "      <td>...</td>\n",
       "      <td>0</td>\n",
       "      <td>0</td>\n",
       "      <td>0</td>\n",
       "      <td>0</td>\n",
       "      <td>0</td>\n",
       "      <td>0</td>\n",
       "      <td>0</td>\n",
       "      <td>ar_AE</td>\n",
       "      <td>AE</td>\n",
       "      <td>NaN</td>\n",
       "    </tr>\n",
       "    <tr>\n",
       "      <th>2</th>\n",
       "      <td>0</td>\n",
       "      <td>0</td>\n",
       "      <td>0</td>\n",
       "      <td>0</td>\n",
       "      <td>0</td>\n",
       "      <td>0</td>\n",
       "      <td>1</td>\n",
       "      <td>1</td>\n",
       "      <td>1</td>\n",
       "      <td>0</td>\n",
       "      <td>...</td>\n",
       "      <td>1</td>\n",
       "      <td>0</td>\n",
       "      <td>0</td>\n",
       "      <td>1</td>\n",
       "      <td>0</td>\n",
       "      <td>0</td>\n",
       "      <td>0</td>\n",
       "      <td>ar_AE</td>\n",
       "      <td>AE</td>\n",
       "      <td>NaN</td>\n",
       "    </tr>\n",
       "    <tr>\n",
       "      <th>3</th>\n",
       "      <td>0</td>\n",
       "      <td>0</td>\n",
       "      <td>0</td>\n",
       "      <td>1</td>\n",
       "      <td>0</td>\n",
       "      <td>0</td>\n",
       "      <td>0</td>\n",
       "      <td>0</td>\n",
       "      <td>0</td>\n",
       "      <td>0</td>\n",
       "      <td>...</td>\n",
       "      <td>0</td>\n",
       "      <td>0</td>\n",
       "      <td>0</td>\n",
       "      <td>0</td>\n",
       "      <td>0</td>\n",
       "      <td>0</td>\n",
       "      <td>0</td>\n",
       "      <td>ar_AE</td>\n",
       "      <td>AE</td>\n",
       "      <td>NaN</td>\n",
       "    </tr>\n",
       "    <tr>\n",
       "      <th>4</th>\n",
       "      <td>0</td>\n",
       "      <td>1</td>\n",
       "      <td>0</td>\n",
       "      <td>0</td>\n",
       "      <td>0</td>\n",
       "      <td>0</td>\n",
       "      <td>0</td>\n",
       "      <td>0</td>\n",
       "      <td>1</td>\n",
       "      <td>0</td>\n",
       "      <td>...</td>\n",
       "      <td>0</td>\n",
       "      <td>0</td>\n",
       "      <td>0</td>\n",
       "      <td>0</td>\n",
       "      <td>0</td>\n",
       "      <td>0</td>\n",
       "      <td>0</td>\n",
       "      <td>ar_AE</td>\n",
       "      <td>AE</td>\n",
       "      <td>NaN</td>\n",
       "    </tr>\n",
       "  </tbody>\n",
       "</table>\n",
       "<p>5 rows × 29 columns</p>\n",
       "</div>"
      ],
      "text/plain": [
       "   a  b  c  d  e  f  g  h  i  j  ...  t  u  v  w  x  y  z Country_code  \\\n",
       "0  0  0  0  0  0  0  0  1  0  1  ...  0  0  0  0  0  0  0        ar_AE   \n",
       "1  0  0  0  0  0  0  0  1  0  1  ...  0  0  0  0  0  0  0        ar_AE   \n",
       "2  0  0  0  0  0  0  1  1  1  0  ...  1  0  0  1  0  0  0        ar_AE   \n",
       "3  0  0  0  1  0  0  0  0  0  0  ...  0  0  0  0  0  0  0        ar_AE   \n",
       "4  0  1  0  0  0  0  0  0  1  0  ...  0  0  0  0  0  0  0        ar_AE   \n",
       "\n",
       "  Country   .  \n",
       "0      AE NaN  \n",
       "1      AE NaN  \n",
       "2      AE NaN  \n",
       "3      AE NaN  \n",
       "4      AE NaN  \n",
       "\n",
       "[5 rows x 29 columns]"
      ]
     },
     "execution_count": 14,
     "metadata": {},
     "output_type": "execute_result"
    }
   ],
   "source": [
    "newdf.head()"
   ]
  },
  {
   "cell_type": "code",
   "execution_count": 15,
   "id": "730860b3",
   "metadata": {},
   "outputs": [],
   "source": [
    "from sklearn.preprocessing import LabelEncoder"
   ]
  },
  {
   "cell_type": "code",
   "execution_count": 16,
   "id": "465e5213",
   "metadata": {},
   "outputs": [],
   "source": [
    "le = LabelEncoder()\n",
    "df['Name'] = le.fit_transform(df['Name'])"
   ]
  },
  {
   "cell_type": "code",
   "execution_count": 33,
   "id": "9637d8ce",
   "metadata": {},
   "outputs": [],
   "source": [
    "# X = pd.factorize(df['Name'])[0].reshape(-1,1)\n",
    "# Y = pd.factorize(df['Country'])[0].reshape(-1,1)"
   ]
  },
  {
   "cell_type": "code",
   "execution_count": 51,
   "id": "06b72dff",
   "metadata": {},
   "outputs": [],
   "source": [
    "X = newdf[list(string.ascii_lowercase)]\n",
    "Y = newdf['Country']"
   ]
  },
  {
   "cell_type": "code",
   "execution_count": 52,
   "id": "74556760",
   "metadata": {},
   "outputs": [
    {
     "data": {
      "text/plain": [
       "(10409, 26)"
      ]
     },
     "execution_count": 52,
     "metadata": {},
     "output_type": "execute_result"
    }
   ],
   "source": [
    "X.shape"
   ]
  },
  {
   "cell_type": "code",
   "execution_count": 53,
   "id": "63ddabf0",
   "metadata": {},
   "outputs": [],
   "source": [
    "from sklearn.model_selection import train_test_split\n",
    "X_train, X_test, Y_train, Y_test = train_test_split(X,Y, test_size=0.2, random_state=0)"
   ]
  },
  {
   "cell_type": "code",
   "execution_count": 55,
   "id": "779a90d2",
   "metadata": {},
   "outputs": [
    {
     "name": "stdout",
     "output_type": "stream",
     "text": [
      "Iteration 1, loss = 0.61870553\n",
      "Iteration 2, loss = 0.61414579\n",
      "Iteration 3, loss = 0.61337488\n",
      "Iteration 4, loss = 0.61172227\n",
      "Iteration 5, loss = 0.61135576\n",
      "Iteration 6, loss = 0.61056831\n",
      "Iteration 7, loss = 0.60952742\n",
      "Iteration 8, loss = 0.60972004\n",
      "Iteration 9, loss = 0.60878205\n",
      "Iteration 10, loss = 0.60874295\n",
      "Iteration 11, loss = 0.60902916\n",
      "Iteration 12, loss = 0.60804079\n",
      "Iteration 13, loss = 0.60786734\n",
      "Iteration 14, loss = 0.60755309\n",
      "Iteration 15, loss = 0.60719918\n",
      "Iteration 16, loss = 0.60863441\n",
      "Iteration 17, loss = 0.60752479\n",
      "Iteration 18, loss = 0.60705796\n",
      "Iteration 19, loss = 0.60791483\n",
      "Iteration 20, loss = 0.60842593\n",
      "Iteration 21, loss = 0.60655986\n",
      "Iteration 22, loss = 0.60565789\n",
      "Iteration 23, loss = 0.60539939\n",
      "Iteration 24, loss = 0.60649128\n",
      "Iteration 25, loss = 0.60583964\n",
      "Iteration 26, loss = 0.60555888\n",
      "Iteration 27, loss = 0.60548889\n",
      "Iteration 28, loss = 0.60527387\n",
      "Iteration 29, loss = 0.60598688\n",
      "Iteration 30, loss = 0.60518383\n",
      "Iteration 31, loss = 0.60477972\n",
      "Iteration 32, loss = 0.60453700\n",
      "Iteration 33, loss = 0.60491897\n",
      "Iteration 34, loss = 0.60476366\n",
      "Iteration 35, loss = 0.60429963\n",
      "Iteration 36, loss = 0.60434233\n",
      "Iteration 37, loss = 0.60396974\n",
      "Iteration 38, loss = 0.60381930\n",
      "Iteration 39, loss = 0.60372379\n",
      "Iteration 40, loss = 0.60458396\n",
      "Iteration 41, loss = 0.60366756\n",
      "Iteration 42, loss = 0.60346354\n",
      "Iteration 43, loss = 0.60363257\n",
      "Iteration 44, loss = 0.60365863\n",
      "Iteration 45, loss = 0.60314015\n",
      "Iteration 46, loss = 0.60403392\n",
      "Iteration 47, loss = 0.60298309\n",
      "Iteration 48, loss = 0.60324196\n",
      "Iteration 49, loss = 0.60370857\n",
      "Iteration 50, loss = 0.60324461\n",
      "Iteration 51, loss = 0.60248548\n",
      "Iteration 52, loss = 0.60339082\n",
      "Iteration 53, loss = 0.60297300\n",
      "Iteration 54, loss = 0.60342077\n",
      "Iteration 55, loss = 0.60309616\n",
      "Iteration 56, loss = 0.60223223\n",
      "Iteration 57, loss = 0.60260851\n",
      "Iteration 58, loss = 0.60292578\n",
      "Iteration 59, loss = 0.60237197\n",
      "Iteration 60, loss = 0.60241951\n",
      "Iteration 61, loss = 0.60304916\n",
      "Iteration 62, loss = 0.60284411\n",
      "Iteration 63, loss = 0.60278383\n",
      "Iteration 64, loss = 0.60218386\n",
      "Iteration 65, loss = 0.60231279\n",
      "Iteration 66, loss = 0.60208652\n",
      "Iteration 67, loss = 0.60248264\n",
      "Training loss did not improve more than tol=0.000100 for 10 consecutive epochs. Stopping.\n"
     ]
    },
    {
     "data": {
      "text/plain": [
       "MLPClassifier(hidden_layer_sizes=(6, 5), learning_rate_init=0.01,\n",
       "              random_state=0, verbose=True)"
      ]
     },
     "execution_count": 55,
     "metadata": {},
     "output_type": "execute_result"
    }
   ],
   "source": [
    "from sklearn.neural_network import MLPClassifier\n",
    "clf = MLPClassifier(hidden_layer_sizes=(6,5),\n",
    "                   random_state=0,\n",
    "                   verbose=True,\n",
    "                   learning_rate_init=0.01)\n",
    "clf.fit(X_train, Y_train)"
   ]
  },
  {
   "cell_type": "code",
   "execution_count": 56,
   "id": "0db36b8c",
   "metadata": {},
   "outputs": [
    {
     "data": {
      "text/plain": [
       "0.686359269932757"
      ]
     },
     "execution_count": 56,
     "metadata": {},
     "output_type": "execute_result"
    }
   ],
   "source": [
    "Y_pred = clf.predict(X_test)\n",
    "from sklearn.metrics import accuracy_score\n",
    "accuracy_score(Y_test, Y_pred)"
   ]
  },
  {
   "cell_type": "code",
   "execution_count": null,
   "id": "7d589a4a",
   "metadata": {},
   "outputs": [],
   "source": []
  }
 ],
 "metadata": {
  "kernelspec": {
   "display_name": "Python 3",
   "language": "python",
   "name": "python3"
  },
  "language_info": {
   "codemirror_mode": {
    "name": "ipython",
    "version": 3
   },
   "file_extension": ".py",
   "mimetype": "text/x-python",
   "name": "python",
   "nbconvert_exporter": "python",
   "pygments_lexer": "ipython3",
   "version": "3.8.8"
  }
 },
 "nbformat": 4,
 "nbformat_minor": 5
}
